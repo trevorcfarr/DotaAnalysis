{
 "cells": [
  {
   "cell_type": "markdown",
   "id": "a642fa83",
   "metadata": {},
   "source": [
    "<h1>The Data</h1>\n",
    "All of my match data was sourced from OpenDota, an open-source data platform that grabs its data directly from Steam. OpenDota provides a great API for developers to build their own applications with. The data I'll be working with comes from two GET requests to the API; one for my match data, and one for general hero data. I loaded this data into a MySQL database and exported it into two CSV files - one with my match data joined with hero data and one with the hero data on its own - which I'll work with using Python's Pandas module. The code and CSVs I used for all of this can be found on my Github."
   ]
  },
  {
   "cell_type": "markdown",
   "id": "c016fc22",
   "metadata": {},
   "source": [
    "<h1>Loading and Preparing the Data</h1>\n",
    "<p>Before I can do any analysis, I'll have to load the data and clean things up a little bit.</p>"
   ]
  },
  {
   "cell_type": "code",
   "execution_count": 1,
   "id": "1b735520",
   "metadata": {},
   "outputs": [],
   "source": [
    "### Imports\n",
    "\n",
    "# Data Analysis\n",
    "import pandas as pd\n",
    "pd.options.display.max_columns = 50\n",
    "import datetime # Working with time data\n",
    "import numpy as np\n",
    "\n",
    "# Visualization\n",
    "import matplotlib.pyplot as plt\n",
    "import seaborn as sns"
   ]
  },
  {
   "cell_type": "markdown",
   "id": "42e36815",
   "metadata": {},
   "source": [
    "<h1>DataFrame 1: Match Data</h1>\n",
    "This first dataset contains information on every match of Dota 2 I've ever played, plus additional information about the hero I chose to play as."
   ]
  },
  {
   "cell_type": "code",
   "execution_count": 2,
   "id": "3968c68e",
   "metadata": {},
   "outputs": [
    {
     "data": {
      "text/plain": [
       "Index(['result', 'radiant_win', 'duration', 'start_time', 'game_mode',\n",
       "       'localized_name', 'kills', 'deaths', 'assists', 'primary_attr',\n",
       "       'attack_type', 'carry', 'jungler', 'pusher', 'nuker', 'disabler',\n",
       "       'initiator', 'durable', 'support', 'legs'],\n",
       "      dtype='object')"
      ]
     },
     "execution_count": 2,
     "metadata": {},
     "output_type": "execute_result"
    }
   ],
   "source": [
    "### Load the data\n",
    "data = pd.read_csv('dota_stats.csv')\n",
    "headers = data.columns\n",
    "headers # List of data variables"
   ]
  },
  {
   "cell_type": "markdown",
   "id": "7802c803",
   "metadata": {},
   "source": [
    "<h2>A list of the data variables recorded for each match. Here's what they mean:</h2>\n",
    "\n",
    "<ul>\n",
    "    <li><strong>result:</strong> Whether the team I was on won or not. 1 = Win, 0 = Loss.</li>\n",
    "    <li><strong>radiant_win:</strong> Whether the team on the Radiant side of the map won. 1 = True, 0 = False.</li>\n",
    "    <li><strong>duration:</strong> How long the match lasted, in seconds.</li>\n",
    "    <li><strong>start_time:</strong> The exadct time the match started, measured in seconds since the Coordinated Universal Time stamp, January 1st, 1970</li>\n",
    "    <li><strong>game_mode:</strong> The game mode I was playing in. An irrelevant variable that'll be deleted later, since I found OpenDota's API to be unclear on the label encoding used for each mode.</li>\n",
    "    <li><strong>localized_name:</strong> The name of the hero I played. Will be changed to 'Hero' later for brevity.</li>\n",
    "    <li><strong>kills:</strong> The number of enemy heroes I killed during the match.</li>\n",
    "    <li><strong>deaths:</strong> The number of times I died during the match, either to enemy heroes or units, neutral creeps, or suicide.</li>\n",
    "    <li><strong>assists:</strong> The number of times I assisted a teammate in getting a kill.</li>\n",
    "    <li><strong>primary_attr:</strong> The primary attribute of my hero. Either agi (agility), int (intelligence), or str (strength).</li>\n",
    "    <li><strong>attack_type:</strong> How my hero does basic attacks. Either melee or ranged.</li>\n",
    "    <li><strong>carry:</strong> A hero that is the strongest in the lategame with more experience and items. 1 = Yes, 0 = No (same for all other roles).</li>\n",
    "    <li><strong>jungler:</strong> A hero that can spend the early game fighting neutral creeps in the jungle to gain experience and gold.</li>\n",
    "    <li><strong>pusher:</strong> A hero that can quickly push lanes and destroy enemy buildings.</li>\n",
    "    <li><strong>nuker:</strong> A hero that can cast damage-dealing spells to quickly kill enemy heroes.</li>\n",
    "    <li><strong>disabler:</strong> A hero that can cast spells to prevent enemy heroes from doing things (e.g. stunning a hero so it can't move or attack, removing its damage, silencing it so it can't cast spells).</li>\n",
    "    <li><strong>initiator:</strong> A hero that is good at starting and controlling major teamfights.</li>\n",
    "    <li><strong>durable:</strong> A hero that has a lot of health or armor, allowing it to withstand fights and take a lot of damage.</li>\n",
    "    <li><strong>support:</strong> A hero that has a lot of spells useful for helping out the team, either by healing or strengthening allies. Often delegated to buy support items (i.e. wards, dust) for the team.</li>\n",
    "    <li><strong>legs:</strong> The number of legs my hero has. (Irrelevant?)</li>\n",
    "</ul>"
   ]
  },
  {
   "cell_type": "markdown",
   "id": "348ac478",
   "metadata": {},
   "source": [
    "First things first - how many games did I play?"
   ]
  },
  {
   "cell_type": "code",
   "execution_count": 3,
   "id": "51d76622",
   "metadata": {},
   "outputs": [
    {
     "data": {
      "text/plain": [
       "555"
      ]
     },
     "execution_count": 3,
     "metadata": {},
     "output_type": "execute_result"
    }
   ],
   "source": [
    "total_games = len(data)\n",
    "total_games"
   ]
  },
  {
   "cell_type": "code",
   "execution_count": 4,
   "id": "34ea3930",
   "metadata": {},
   "outputs": [],
   "source": [
    "headers_list = list(headers)\n",
    "headers_list[5] = 'hero' # change 'localized_named' to 'hero'\n",
    "data.columns = headers_list"
   ]
  },
  {
   "cell_type": "markdown",
   "id": "4c9f2a1e",
   "metadata": {},
   "source": [
    "Here's what the head (first 5 rows) of the data looks like. The data is stored in a pandas DataFrame object."
   ]
  },
  {
   "cell_type": "code",
   "execution_count": 5,
   "id": "30135012",
   "metadata": {},
   "outputs": [
    {
     "data": {
      "text/html": [
       "<div>\n",
       "<style scoped>\n",
       "    .dataframe tbody tr th:only-of-type {\n",
       "        vertical-align: middle;\n",
       "    }\n",
       "\n",
       "    .dataframe tbody tr th {\n",
       "        vertical-align: top;\n",
       "    }\n",
       "\n",
       "    .dataframe thead th {\n",
       "        text-align: right;\n",
       "    }\n",
       "</style>\n",
       "<table border=\"1\" class=\"dataframe\">\n",
       "  <thead>\n",
       "    <tr style=\"text-align: right;\">\n",
       "      <th></th>\n",
       "      <th>result</th>\n",
       "      <th>radiant_win</th>\n",
       "      <th>duration</th>\n",
       "      <th>start_time</th>\n",
       "      <th>game_mode</th>\n",
       "      <th>hero</th>\n",
       "      <th>kills</th>\n",
       "      <th>deaths</th>\n",
       "      <th>assists</th>\n",
       "      <th>primary_attr</th>\n",
       "      <th>attack_type</th>\n",
       "      <th>carry</th>\n",
       "      <th>jungler</th>\n",
       "      <th>pusher</th>\n",
       "      <th>nuker</th>\n",
       "      <th>disabler</th>\n",
       "      <th>initiator</th>\n",
       "      <th>durable</th>\n",
       "      <th>support</th>\n",
       "      <th>legs</th>\n",
       "    </tr>\n",
       "  </thead>\n",
       "  <tbody>\n",
       "    <tr>\n",
       "      <th>0</th>\n",
       "      <td>0</td>\n",
       "      <td>1</td>\n",
       "      <td>3212</td>\n",
       "      <td>1639033178</td>\n",
       "      <td>22</td>\n",
       "      <td>Snapfire</td>\n",
       "      <td>4</td>\n",
       "      <td>8</td>\n",
       "      <td>17</td>\n",
       "      <td>all</td>\n",
       "      <td>Ranged</td>\n",
       "      <td>0</td>\n",
       "      <td>0</td>\n",
       "      <td>0</td>\n",
       "      <td>1</td>\n",
       "      <td>1</td>\n",
       "      <td>0</td>\n",
       "      <td>0</td>\n",
       "      <td>1</td>\n",
       "      <td>2</td>\n",
       "    </tr>\n",
       "    <tr>\n",
       "      <th>1</th>\n",
       "      <td>1</td>\n",
       "      <td>1</td>\n",
       "      <td>2571</td>\n",
       "      <td>1640818822</td>\n",
       "      <td>22</td>\n",
       "      <td>Bristleback</td>\n",
       "      <td>5</td>\n",
       "      <td>4</td>\n",
       "      <td>19</td>\n",
       "      <td>str</td>\n",
       "      <td>Melee</td>\n",
       "      <td>1</td>\n",
       "      <td>0</td>\n",
       "      <td>0</td>\n",
       "      <td>1</td>\n",
       "      <td>0</td>\n",
       "      <td>1</td>\n",
       "      <td>1</td>\n",
       "      <td>0</td>\n",
       "      <td>2</td>\n",
       "    </tr>\n",
       "    <tr>\n",
       "      <th>2</th>\n",
       "      <td>0</td>\n",
       "      <td>1</td>\n",
       "      <td>2142</td>\n",
       "      <td>1641277499</td>\n",
       "      <td>22</td>\n",
       "      <td>Chaos Knight</td>\n",
       "      <td>1</td>\n",
       "      <td>7</td>\n",
       "      <td>9</td>\n",
       "      <td>str</td>\n",
       "      <td>Melee</td>\n",
       "      <td>1</td>\n",
       "      <td>0</td>\n",
       "      <td>1</td>\n",
       "      <td>0</td>\n",
       "      <td>1</td>\n",
       "      <td>1</td>\n",
       "      <td>1</td>\n",
       "      <td>0</td>\n",
       "      <td>2</td>\n",
       "    </tr>\n",
       "    <tr>\n",
       "      <th>3</th>\n",
       "      <td>0</td>\n",
       "      <td>1</td>\n",
       "      <td>2025</td>\n",
       "      <td>1641775547</td>\n",
       "      <td>22</td>\n",
       "      <td>Lich</td>\n",
       "      <td>3</td>\n",
       "      <td>8</td>\n",
       "      <td>8</td>\n",
       "      <td>int</td>\n",
       "      <td>Ranged</td>\n",
       "      <td>0</td>\n",
       "      <td>0</td>\n",
       "      <td>0</td>\n",
       "      <td>1</td>\n",
       "      <td>0</td>\n",
       "      <td>0</td>\n",
       "      <td>0</td>\n",
       "      <td>1</td>\n",
       "      <td>2</td>\n",
       "    </tr>\n",
       "    <tr>\n",
       "      <th>4</th>\n",
       "      <td>1</td>\n",
       "      <td>0</td>\n",
       "      <td>3794</td>\n",
       "      <td>1646713648</td>\n",
       "      <td>22</td>\n",
       "      <td>Timbersaw</td>\n",
       "      <td>8</td>\n",
       "      <td>9</td>\n",
       "      <td>30</td>\n",
       "      <td>all</td>\n",
       "      <td>Melee</td>\n",
       "      <td>0</td>\n",
       "      <td>0</td>\n",
       "      <td>0</td>\n",
       "      <td>1</td>\n",
       "      <td>0</td>\n",
       "      <td>0</td>\n",
       "      <td>1</td>\n",
       "      <td>0</td>\n",
       "      <td>2</td>\n",
       "    </tr>\n",
       "  </tbody>\n",
       "</table>\n",
       "</div>"
      ],
      "text/plain": [
       "   result  radiant_win  duration  start_time  game_mode          hero  kills  \\\n",
       "0       0            1      3212  1639033178         22      Snapfire      4   \n",
       "1       1            1      2571  1640818822         22   Bristleback      5   \n",
       "2       0            1      2142  1641277499         22  Chaos Knight      1   \n",
       "3       0            1      2025  1641775547         22          Lich      3   \n",
       "4       1            0      3794  1646713648         22     Timbersaw      8   \n",
       "\n",
       "   deaths  assists primary_attr attack_type  carry  jungler  pusher  nuker  \\\n",
       "0       8       17          all      Ranged      0        0       0      1   \n",
       "1       4       19          str       Melee      1        0       0      1   \n",
       "2       7        9          str       Melee      1        0       1      0   \n",
       "3       8        8          int      Ranged      0        0       0      1   \n",
       "4       9       30          all       Melee      0        0       0      1   \n",
       "\n",
       "   disabler  initiator  durable  support  legs  \n",
       "0         1          0        0        1     2  \n",
       "1         0          1        1        0     2  \n",
       "2         1          1        1        0     2  \n",
       "3         0          0        0        1     2  \n",
       "4         0          0        1        0     2  "
      ]
     },
     "execution_count": 5,
     "metadata": {},
     "output_type": "execute_result"
    }
   ],
   "source": [
    "data.head()"
   ]
  },
  {
   "cell_type": "markdown",
   "id": "2a5fe85d",
   "metadata": {},
   "source": [
    "It's not ready for analysis yet - there are a few useful things we can add and clean up."
   ]
  },
  {
   "cell_type": "code",
   "execution_count": 6,
   "id": "b008efd7",
   "metadata": {},
   "outputs": [],
   "source": [
    "data['duration'] = round(data['duration'] /60)"
   ]
  },
  {
   "cell_type": "markdown",
   "id": "5a863709",
   "metadata": {},
   "source": [
    "First, we convert the match duration from seconds to minutes. Next, we'll use Python's <strong>datetime</strong> module to take the <strong>start_time</strong> timestamp data and move it into new <strong>year, month, day,</strong> and <strong>hour</strong> variables in the DataFrame."
   ]
  },
  {
   "cell_type": "code",
   "execution_count": 7,
   "id": "7ec1eb7e",
   "metadata": {},
   "outputs": [],
   "source": [
    "year = []\n",
    "month = []\n",
    "day = []\n",
    "hour = []\n",
    "minute = []\n",
    "for ix in data['start_time'].index:\n",
    "    ts = datetime.datetime.fromtimestamp((data['start_time'][ix]))\n",
    "    year.append(ts.year)\n",
    "    month.append(ts.month)\n",
    "    day.append(ts.day)\n",
    "    hour.append(ts.hour)\n",
    "    minute.append(ts.minute)\n",
    "data.insert(3, 'year', year)\n",
    "data.insert(4, 'month', month)\n",
    "data.insert(5, 'day', day)\n",
    "data.insert(6, 'hour', hour)\n",
    "data.insert(7,'minute', minute)\n",
    "data.drop('start_time', axis=1, inplace=True)"
   ]
  },
  {
   "cell_type": "markdown",
   "id": "e7221e64",
   "metadata": {},
   "source": [
    "Here's what the DataFrame looks like with our time variables properly formatted:"
   ]
  },
  {
   "cell_type": "code",
   "execution_count": 8,
   "id": "bda13851",
   "metadata": {},
   "outputs": [
    {
     "data": {
      "text/html": [
       "<div>\n",
       "<style scoped>\n",
       "    .dataframe tbody tr th:only-of-type {\n",
       "        vertical-align: middle;\n",
       "    }\n",
       "\n",
       "    .dataframe tbody tr th {\n",
       "        vertical-align: top;\n",
       "    }\n",
       "\n",
       "    .dataframe thead th {\n",
       "        text-align: right;\n",
       "    }\n",
       "</style>\n",
       "<table border=\"1\" class=\"dataframe\">\n",
       "  <thead>\n",
       "    <tr style=\"text-align: right;\">\n",
       "      <th></th>\n",
       "      <th>result</th>\n",
       "      <th>radiant_win</th>\n",
       "      <th>duration</th>\n",
       "      <th>year</th>\n",
       "      <th>month</th>\n",
       "      <th>day</th>\n",
       "      <th>hour</th>\n",
       "      <th>minute</th>\n",
       "      <th>game_mode</th>\n",
       "      <th>hero</th>\n",
       "      <th>kills</th>\n",
       "      <th>deaths</th>\n",
       "      <th>assists</th>\n",
       "      <th>primary_attr</th>\n",
       "      <th>attack_type</th>\n",
       "      <th>carry</th>\n",
       "      <th>jungler</th>\n",
       "      <th>pusher</th>\n",
       "      <th>nuker</th>\n",
       "      <th>disabler</th>\n",
       "      <th>initiator</th>\n",
       "      <th>durable</th>\n",
       "      <th>support</th>\n",
       "      <th>legs</th>\n",
       "    </tr>\n",
       "  </thead>\n",
       "  <tbody>\n",
       "    <tr>\n",
       "      <th>0</th>\n",
       "      <td>0</td>\n",
       "      <td>1</td>\n",
       "      <td>54.0</td>\n",
       "      <td>2021</td>\n",
       "      <td>12</td>\n",
       "      <td>8</td>\n",
       "      <td>22</td>\n",
       "      <td>59</td>\n",
       "      <td>22</td>\n",
       "      <td>Snapfire</td>\n",
       "      <td>4</td>\n",
       "      <td>8</td>\n",
       "      <td>17</td>\n",
       "      <td>all</td>\n",
       "      <td>Ranged</td>\n",
       "      <td>0</td>\n",
       "      <td>0</td>\n",
       "      <td>0</td>\n",
       "      <td>1</td>\n",
       "      <td>1</td>\n",
       "      <td>0</td>\n",
       "      <td>0</td>\n",
       "      <td>1</td>\n",
       "      <td>2</td>\n",
       "    </tr>\n",
       "    <tr>\n",
       "      <th>1</th>\n",
       "      <td>1</td>\n",
       "      <td>1</td>\n",
       "      <td>43.0</td>\n",
       "      <td>2021</td>\n",
       "      <td>12</td>\n",
       "      <td>29</td>\n",
       "      <td>15</td>\n",
       "      <td>0</td>\n",
       "      <td>22</td>\n",
       "      <td>Bristleback</td>\n",
       "      <td>5</td>\n",
       "      <td>4</td>\n",
       "      <td>19</td>\n",
       "      <td>str</td>\n",
       "      <td>Melee</td>\n",
       "      <td>1</td>\n",
       "      <td>0</td>\n",
       "      <td>0</td>\n",
       "      <td>1</td>\n",
       "      <td>0</td>\n",
       "      <td>1</td>\n",
       "      <td>1</td>\n",
       "      <td>0</td>\n",
       "      <td>2</td>\n",
       "    </tr>\n",
       "    <tr>\n",
       "      <th>2</th>\n",
       "      <td>0</td>\n",
       "      <td>1</td>\n",
       "      <td>36.0</td>\n",
       "      <td>2022</td>\n",
       "      <td>1</td>\n",
       "      <td>3</td>\n",
       "      <td>22</td>\n",
       "      <td>24</td>\n",
       "      <td>22</td>\n",
       "      <td>Chaos Knight</td>\n",
       "      <td>1</td>\n",
       "      <td>7</td>\n",
       "      <td>9</td>\n",
       "      <td>str</td>\n",
       "      <td>Melee</td>\n",
       "      <td>1</td>\n",
       "      <td>0</td>\n",
       "      <td>1</td>\n",
       "      <td>0</td>\n",
       "      <td>1</td>\n",
       "      <td>1</td>\n",
       "      <td>1</td>\n",
       "      <td>0</td>\n",
       "      <td>2</td>\n",
       "    </tr>\n",
       "    <tr>\n",
       "      <th>3</th>\n",
       "      <td>0</td>\n",
       "      <td>1</td>\n",
       "      <td>34.0</td>\n",
       "      <td>2022</td>\n",
       "      <td>1</td>\n",
       "      <td>9</td>\n",
       "      <td>16</td>\n",
       "      <td>45</td>\n",
       "      <td>22</td>\n",
       "      <td>Lich</td>\n",
       "      <td>3</td>\n",
       "      <td>8</td>\n",
       "      <td>8</td>\n",
       "      <td>int</td>\n",
       "      <td>Ranged</td>\n",
       "      <td>0</td>\n",
       "      <td>0</td>\n",
       "      <td>0</td>\n",
       "      <td>1</td>\n",
       "      <td>0</td>\n",
       "      <td>0</td>\n",
       "      <td>0</td>\n",
       "      <td>1</td>\n",
       "      <td>2</td>\n",
       "    </tr>\n",
       "    <tr>\n",
       "      <th>4</th>\n",
       "      <td>1</td>\n",
       "      <td>0</td>\n",
       "      <td>63.0</td>\n",
       "      <td>2022</td>\n",
       "      <td>3</td>\n",
       "      <td>7</td>\n",
       "      <td>20</td>\n",
       "      <td>27</td>\n",
       "      <td>22</td>\n",
       "      <td>Timbersaw</td>\n",
       "      <td>8</td>\n",
       "      <td>9</td>\n",
       "      <td>30</td>\n",
       "      <td>all</td>\n",
       "      <td>Melee</td>\n",
       "      <td>0</td>\n",
       "      <td>0</td>\n",
       "      <td>0</td>\n",
       "      <td>1</td>\n",
       "      <td>0</td>\n",
       "      <td>0</td>\n",
       "      <td>1</td>\n",
       "      <td>0</td>\n",
       "      <td>2</td>\n",
       "    </tr>\n",
       "  </tbody>\n",
       "</table>\n",
       "</div>"
      ],
      "text/plain": [
       "   result  radiant_win  duration  year  month  day  hour  minute  game_mode  \\\n",
       "0       0            1      54.0  2021     12    8    22      59         22   \n",
       "1       1            1      43.0  2021     12   29    15       0         22   \n",
       "2       0            1      36.0  2022      1    3    22      24         22   \n",
       "3       0            1      34.0  2022      1    9    16      45         22   \n",
       "4       1            0      63.0  2022      3    7    20      27         22   \n",
       "\n",
       "           hero  kills  deaths  assists primary_attr attack_type  carry  \\\n",
       "0      Snapfire      4       8       17          all      Ranged      0   \n",
       "1   Bristleback      5       4       19          str       Melee      1   \n",
       "2  Chaos Knight      1       7        9          str       Melee      1   \n",
       "3          Lich      3       8        8          int      Ranged      0   \n",
       "4     Timbersaw      8       9       30          all       Melee      0   \n",
       "\n",
       "   jungler  pusher  nuker  disabler  initiator  durable  support  legs  \n",
       "0        0       0      1         1          0        0        1     2  \n",
       "1        0       0      1         0          1        1        0     2  \n",
       "2        0       1      0         1          1        1        0     2  \n",
       "3        0       0      1         0          0        0        1     2  \n",
       "4        0       0      1         0          0        1        0     2  "
      ]
     },
     "execution_count": 8,
     "metadata": {},
     "output_type": "execute_result"
    }
   ],
   "source": [
    "data.head()"
   ]
  },
  {
   "cell_type": "markdown",
   "id": "320c6e7f",
   "metadata": {},
   "source": [
    "Next, we're going to split the values in both <strong>primary_attr</strong> and <strong>attack_type</strong> into new dummy variables, to make things easier for manipulation later on. This adds the columns <strong>agi, int, str, all,  melee,</strong> and <strong>ranged</strong> to the DataFrame."
   ]
  },
  {
   "cell_type": "code",
   "execution_count": 9,
   "id": "8841b6d1",
   "metadata": {},
   "outputs": [],
   "source": [
    "primary_attr = pd.get_dummies(data['primary_attr'])\n",
    "attack_type = pd.get_dummies(data['attack_type'])\n",
    "data = pd.concat([data, primary_attr, attack_type], axis=1)"
   ]
  },
  {
   "cell_type": "markdown",
   "id": "953da62a",
   "metadata": {},
   "source": [
    "Now we add two new variables into the DataFrame: Kill/Death Ratio (<strong>kdr</strong>) and Kill/Death/Assist Ratio (<strong>kda</strong>). These are aggregates of the <strong>kill, death,</strong> and <strong>assist</strong> variables which provide good descriptive values to the balance of the three scored in each match.\n",
    "\n",
    "<strong>Kill/Death Ratio (KDR)</strong> = <i>kills/deaths</i>\n",
    "<strong>Kill/Death/Assist Ratio (KDA)</strong> = <i>(kills+assists)/deaths</i>"
   ]
  },
  {
   "cell_type": "code",
   "execution_count": 10,
   "id": "6465717f",
   "metadata": {},
   "outputs": [],
   "source": [
    "kda = (data['kills'] + data['assists'])/data['deaths']\n",
    "kdr = data['kills']/data['deaths']\n",
    "data.insert(13, 'kda', kda)\n",
    "data.insert(14, 'kdr', kdr)"
   ]
  },
  {
   "cell_type": "markdown",
   "id": "d8eaa4c5",
   "metadata": {},
   "source": [
    "There were some matches I played where I never died once. This will throw the KDR and KDA ratios off for these matches however, since there'll be a division by 0. To mitigate this, for matches where I didn't die, I'll adjust the ratios to divide by 1 instead."
   ]
  },
  {
   "cell_type": "code",
   "execution_count": 11,
   "id": "a8b820fc",
   "metadata": {},
   "outputs": [
    {
     "name": "stderr",
     "output_type": "stream",
     "text": [
      "<ipython-input-11-5c1037ea08c4>:1: SettingWithCopyWarning: \n",
      "A value is trying to be set on a copy of a slice from a DataFrame\n",
      "\n",
      "See the caveats in the documentation: https://pandas.pydata.org/pandas-docs/stable/user_guide/indexing.html#returning-a-view-versus-a-copy\n",
      "  data.kdr[data.deaths == 0] = data.kills[data.deaths == 0] / 1\n",
      "<ipython-input-11-5c1037ea08c4>:2: SettingWithCopyWarning: \n",
      "A value is trying to be set on a copy of a slice from a DataFrame\n",
      "\n",
      "See the caveats in the documentation: https://pandas.pydata.org/pandas-docs/stable/user_guide/indexing.html#returning-a-view-versus-a-copy\n",
      "  data.kda[data.deaths == 0] = (data.kills[data.deaths == 0] + data.assists[data.deaths == 0]) / 1\n"
     ]
    }
   ],
   "source": [
    "data.kdr[data.deaths == 0] = data.kills[data.deaths == 0] / 1\n",
    "data.kda[data.deaths == 0] = (data.kills[data.deaths == 0] + data.assists[data.deaths == 0]) / 1"
   ]
  },
  {
   "cell_type": "markdown",
   "id": "a29fd5e3",
   "metadata": {},
   "source": [
    "Finally, let's drop <strong>game_mode</strong>, since it offers no valuable insight for this analysis. The vast majority of my games (atleast 95% if I had to guess) were played in All Pick Mode, where players can directly pick the hero they want to play for the match.\n",
    "I'm also removing <strong>jungler</strong> as no heroes are classified as it now."
   ]
  },
  {
   "cell_type": "code",
   "execution_count": 12,
   "id": "7a74aabd",
   "metadata": {},
   "outputs": [],
   "source": [
    "data.drop(['jungler'], axis=1, inplace=True)\n",
    "data.drop(['game_mode'], axis=1, inplace=True)"
   ]
  },
  {
   "cell_type": "markdown",
   "id": "48bdc3f1",
   "metadata": {},
   "source": [
    "With these adjustments made, we've now got a clean and easy DataFrame to work with."
   ]
  },
  {
   "cell_type": "code",
   "execution_count": 13,
   "id": "280f0925",
   "metadata": {},
   "outputs": [
    {
     "data": {
      "text/html": [
       "<div>\n",
       "<style scoped>\n",
       "    .dataframe tbody tr th:only-of-type {\n",
       "        vertical-align: middle;\n",
       "    }\n",
       "\n",
       "    .dataframe tbody tr th {\n",
       "        vertical-align: top;\n",
       "    }\n",
       "\n",
       "    .dataframe thead th {\n",
       "        text-align: right;\n",
       "    }\n",
       "</style>\n",
       "<table border=\"1\" class=\"dataframe\">\n",
       "  <thead>\n",
       "    <tr style=\"text-align: right;\">\n",
       "      <th></th>\n",
       "      <th>result</th>\n",
       "      <th>radiant_win</th>\n",
       "      <th>duration</th>\n",
       "      <th>year</th>\n",
       "      <th>month</th>\n",
       "      <th>day</th>\n",
       "      <th>hour</th>\n",
       "      <th>minute</th>\n",
       "      <th>hero</th>\n",
       "      <th>kills</th>\n",
       "      <th>deaths</th>\n",
       "      <th>assists</th>\n",
       "      <th>kda</th>\n",
       "      <th>kdr</th>\n",
       "      <th>primary_attr</th>\n",
       "      <th>attack_type</th>\n",
       "      <th>carry</th>\n",
       "      <th>pusher</th>\n",
       "      <th>nuker</th>\n",
       "      <th>disabler</th>\n",
       "      <th>initiator</th>\n",
       "      <th>durable</th>\n",
       "      <th>support</th>\n",
       "      <th>legs</th>\n",
       "      <th>agi</th>\n",
       "      <th>all</th>\n",
       "      <th>int</th>\n",
       "      <th>str</th>\n",
       "      <th>Melee</th>\n",
       "      <th>Ranged</th>\n",
       "    </tr>\n",
       "  </thead>\n",
       "  <tbody>\n",
       "    <tr>\n",
       "      <th>0</th>\n",
       "      <td>0</td>\n",
       "      <td>1</td>\n",
       "      <td>54.0</td>\n",
       "      <td>2021</td>\n",
       "      <td>12</td>\n",
       "      <td>8</td>\n",
       "      <td>22</td>\n",
       "      <td>59</td>\n",
       "      <td>Snapfire</td>\n",
       "      <td>4</td>\n",
       "      <td>8</td>\n",
       "      <td>17</td>\n",
       "      <td>2.625000</td>\n",
       "      <td>0.500000</td>\n",
       "      <td>all</td>\n",
       "      <td>Ranged</td>\n",
       "      <td>0</td>\n",
       "      <td>0</td>\n",
       "      <td>1</td>\n",
       "      <td>1</td>\n",
       "      <td>0</td>\n",
       "      <td>0</td>\n",
       "      <td>1</td>\n",
       "      <td>2</td>\n",
       "      <td>0</td>\n",
       "      <td>1</td>\n",
       "      <td>0</td>\n",
       "      <td>0</td>\n",
       "      <td>0</td>\n",
       "      <td>1</td>\n",
       "    </tr>\n",
       "    <tr>\n",
       "      <th>1</th>\n",
       "      <td>1</td>\n",
       "      <td>1</td>\n",
       "      <td>43.0</td>\n",
       "      <td>2021</td>\n",
       "      <td>12</td>\n",
       "      <td>29</td>\n",
       "      <td>15</td>\n",
       "      <td>0</td>\n",
       "      <td>Bristleback</td>\n",
       "      <td>5</td>\n",
       "      <td>4</td>\n",
       "      <td>19</td>\n",
       "      <td>6.000000</td>\n",
       "      <td>1.250000</td>\n",
       "      <td>str</td>\n",
       "      <td>Melee</td>\n",
       "      <td>1</td>\n",
       "      <td>0</td>\n",
       "      <td>1</td>\n",
       "      <td>0</td>\n",
       "      <td>1</td>\n",
       "      <td>1</td>\n",
       "      <td>0</td>\n",
       "      <td>2</td>\n",
       "      <td>0</td>\n",
       "      <td>0</td>\n",
       "      <td>0</td>\n",
       "      <td>1</td>\n",
       "      <td>1</td>\n",
       "      <td>0</td>\n",
       "    </tr>\n",
       "    <tr>\n",
       "      <th>2</th>\n",
       "      <td>0</td>\n",
       "      <td>1</td>\n",
       "      <td>36.0</td>\n",
       "      <td>2022</td>\n",
       "      <td>1</td>\n",
       "      <td>3</td>\n",
       "      <td>22</td>\n",
       "      <td>24</td>\n",
       "      <td>Chaos Knight</td>\n",
       "      <td>1</td>\n",
       "      <td>7</td>\n",
       "      <td>9</td>\n",
       "      <td>1.428571</td>\n",
       "      <td>0.142857</td>\n",
       "      <td>str</td>\n",
       "      <td>Melee</td>\n",
       "      <td>1</td>\n",
       "      <td>1</td>\n",
       "      <td>0</td>\n",
       "      <td>1</td>\n",
       "      <td>1</td>\n",
       "      <td>1</td>\n",
       "      <td>0</td>\n",
       "      <td>2</td>\n",
       "      <td>0</td>\n",
       "      <td>0</td>\n",
       "      <td>0</td>\n",
       "      <td>1</td>\n",
       "      <td>1</td>\n",
       "      <td>0</td>\n",
       "    </tr>\n",
       "    <tr>\n",
       "      <th>3</th>\n",
       "      <td>0</td>\n",
       "      <td>1</td>\n",
       "      <td>34.0</td>\n",
       "      <td>2022</td>\n",
       "      <td>1</td>\n",
       "      <td>9</td>\n",
       "      <td>16</td>\n",
       "      <td>45</td>\n",
       "      <td>Lich</td>\n",
       "      <td>3</td>\n",
       "      <td>8</td>\n",
       "      <td>8</td>\n",
       "      <td>1.375000</td>\n",
       "      <td>0.375000</td>\n",
       "      <td>int</td>\n",
       "      <td>Ranged</td>\n",
       "      <td>0</td>\n",
       "      <td>0</td>\n",
       "      <td>1</td>\n",
       "      <td>0</td>\n",
       "      <td>0</td>\n",
       "      <td>0</td>\n",
       "      <td>1</td>\n",
       "      <td>2</td>\n",
       "      <td>0</td>\n",
       "      <td>0</td>\n",
       "      <td>1</td>\n",
       "      <td>0</td>\n",
       "      <td>0</td>\n",
       "      <td>1</td>\n",
       "    </tr>\n",
       "    <tr>\n",
       "      <th>4</th>\n",
       "      <td>1</td>\n",
       "      <td>0</td>\n",
       "      <td>63.0</td>\n",
       "      <td>2022</td>\n",
       "      <td>3</td>\n",
       "      <td>7</td>\n",
       "      <td>20</td>\n",
       "      <td>27</td>\n",
       "      <td>Timbersaw</td>\n",
       "      <td>8</td>\n",
       "      <td>9</td>\n",
       "      <td>30</td>\n",
       "      <td>4.222222</td>\n",
       "      <td>0.888889</td>\n",
       "      <td>all</td>\n",
       "      <td>Melee</td>\n",
       "      <td>0</td>\n",
       "      <td>0</td>\n",
       "      <td>1</td>\n",
       "      <td>0</td>\n",
       "      <td>0</td>\n",
       "      <td>1</td>\n",
       "      <td>0</td>\n",
       "      <td>2</td>\n",
       "      <td>0</td>\n",
       "      <td>1</td>\n",
       "      <td>0</td>\n",
       "      <td>0</td>\n",
       "      <td>1</td>\n",
       "      <td>0</td>\n",
       "    </tr>\n",
       "  </tbody>\n",
       "</table>\n",
       "</div>"
      ],
      "text/plain": [
       "   result  radiant_win  duration  year  month  day  hour  minute  \\\n",
       "0       0            1      54.0  2021     12    8    22      59   \n",
       "1       1            1      43.0  2021     12   29    15       0   \n",
       "2       0            1      36.0  2022      1    3    22      24   \n",
       "3       0            1      34.0  2022      1    9    16      45   \n",
       "4       1            0      63.0  2022      3    7    20      27   \n",
       "\n",
       "           hero  kills  deaths  assists       kda       kdr primary_attr  \\\n",
       "0      Snapfire      4       8       17  2.625000  0.500000          all   \n",
       "1   Bristleback      5       4       19  6.000000  1.250000          str   \n",
       "2  Chaos Knight      1       7        9  1.428571  0.142857          str   \n",
       "3          Lich      3       8        8  1.375000  0.375000          int   \n",
       "4     Timbersaw      8       9       30  4.222222  0.888889          all   \n",
       "\n",
       "  attack_type  carry  pusher  nuker  disabler  initiator  durable  support  \\\n",
       "0      Ranged      0       0      1         1          0        0        1   \n",
       "1       Melee      1       0      1         0          1        1        0   \n",
       "2       Melee      1       1      0         1          1        1        0   \n",
       "3      Ranged      0       0      1         0          0        0        1   \n",
       "4       Melee      0       0      1         0          0        1        0   \n",
       "\n",
       "   legs  agi  all  int  str  Melee  Ranged  \n",
       "0     2    0    1    0    0      0       1  \n",
       "1     2    0    0    0    1      1       0  \n",
       "2     2    0    0    0    1      1       0  \n",
       "3     2    0    0    1    0      0       1  \n",
       "4     2    0    1    0    0      1       0  "
      ]
     },
     "execution_count": 13,
     "metadata": {},
     "output_type": "execute_result"
    }
   ],
   "source": [
    "data.head()"
   ]
  },
  {
   "cell_type": "code",
   "execution_count": 14,
   "id": "f6646c03",
   "metadata": {},
   "outputs": [
    {
     "data": {
      "text/html": [
       "<div>\n",
       "<style scoped>\n",
       "    .dataframe tbody tr th:only-of-type {\n",
       "        vertical-align: middle;\n",
       "    }\n",
       "\n",
       "    .dataframe tbody tr th {\n",
       "        vertical-align: top;\n",
       "    }\n",
       "\n",
       "    .dataframe thead th {\n",
       "        text-align: right;\n",
       "    }\n",
       "</style>\n",
       "<table border=\"1\" class=\"dataframe\">\n",
       "  <thead>\n",
       "    <tr style=\"text-align: right;\">\n",
       "      <th></th>\n",
       "      <th>result</th>\n",
       "      <th>radiant_win</th>\n",
       "      <th>duration</th>\n",
       "      <th>year</th>\n",
       "      <th>month</th>\n",
       "      <th>day</th>\n",
       "      <th>hour</th>\n",
       "      <th>minute</th>\n",
       "      <th>hero</th>\n",
       "      <th>kills</th>\n",
       "      <th>deaths</th>\n",
       "      <th>assists</th>\n",
       "      <th>kda</th>\n",
       "      <th>kdr</th>\n",
       "      <th>primary_attr</th>\n",
       "      <th>attack_type</th>\n",
       "      <th>carry</th>\n",
       "      <th>pusher</th>\n",
       "      <th>nuker</th>\n",
       "      <th>disabler</th>\n",
       "      <th>initiator</th>\n",
       "      <th>durable</th>\n",
       "      <th>support</th>\n",
       "      <th>legs</th>\n",
       "      <th>agi</th>\n",
       "      <th>all</th>\n",
       "      <th>int</th>\n",
       "      <th>str</th>\n",
       "      <th>Melee</th>\n",
       "      <th>Ranged</th>\n",
       "    </tr>\n",
       "  </thead>\n",
       "  <tbody>\n",
       "    <tr>\n",
       "      <th>550</th>\n",
       "      <td>1</td>\n",
       "      <td>0</td>\n",
       "      <td>54.0</td>\n",
       "      <td>2023</td>\n",
       "      <td>4</td>\n",
       "      <td>24</td>\n",
       "      <td>19</td>\n",
       "      <td>6</td>\n",
       "      <td>Snapfire</td>\n",
       "      <td>14</td>\n",
       "      <td>9</td>\n",
       "      <td>20</td>\n",
       "      <td>3.777778</td>\n",
       "      <td>1.555556</td>\n",
       "      <td>all</td>\n",
       "      <td>Ranged</td>\n",
       "      <td>0</td>\n",
       "      <td>0</td>\n",
       "      <td>1</td>\n",
       "      <td>1</td>\n",
       "      <td>0</td>\n",
       "      <td>0</td>\n",
       "      <td>1</td>\n",
       "      <td>2</td>\n",
       "      <td>0</td>\n",
       "      <td>1</td>\n",
       "      <td>0</td>\n",
       "      <td>0</td>\n",
       "      <td>0</td>\n",
       "      <td>1</td>\n",
       "    </tr>\n",
       "    <tr>\n",
       "      <th>551</th>\n",
       "      <td>1</td>\n",
       "      <td>0</td>\n",
       "      <td>39.0</td>\n",
       "      <td>2023</td>\n",
       "      <td>4</td>\n",
       "      <td>25</td>\n",
       "      <td>9</td>\n",
       "      <td>39</td>\n",
       "      <td>Snapfire</td>\n",
       "      <td>9</td>\n",
       "      <td>4</td>\n",
       "      <td>26</td>\n",
       "      <td>8.750000</td>\n",
       "      <td>2.250000</td>\n",
       "      <td>all</td>\n",
       "      <td>Ranged</td>\n",
       "      <td>0</td>\n",
       "      <td>0</td>\n",
       "      <td>1</td>\n",
       "      <td>1</td>\n",
       "      <td>0</td>\n",
       "      <td>0</td>\n",
       "      <td>1</td>\n",
       "      <td>2</td>\n",
       "      <td>0</td>\n",
       "      <td>1</td>\n",
       "      <td>0</td>\n",
       "      <td>0</td>\n",
       "      <td>0</td>\n",
       "      <td>1</td>\n",
       "    </tr>\n",
       "    <tr>\n",
       "      <th>552</th>\n",
       "      <td>0</td>\n",
       "      <td>0</td>\n",
       "      <td>46.0</td>\n",
       "      <td>2023</td>\n",
       "      <td>4</td>\n",
       "      <td>25</td>\n",
       "      <td>10</td>\n",
       "      <td>30</td>\n",
       "      <td>Snapfire</td>\n",
       "      <td>6</td>\n",
       "      <td>6</td>\n",
       "      <td>12</td>\n",
       "      <td>3.000000</td>\n",
       "      <td>1.000000</td>\n",
       "      <td>all</td>\n",
       "      <td>Ranged</td>\n",
       "      <td>0</td>\n",
       "      <td>0</td>\n",
       "      <td>1</td>\n",
       "      <td>1</td>\n",
       "      <td>0</td>\n",
       "      <td>0</td>\n",
       "      <td>1</td>\n",
       "      <td>2</td>\n",
       "      <td>0</td>\n",
       "      <td>1</td>\n",
       "      <td>0</td>\n",
       "      <td>0</td>\n",
       "      <td>0</td>\n",
       "      <td>1</td>\n",
       "    </tr>\n",
       "    <tr>\n",
       "      <th>553</th>\n",
       "      <td>0</td>\n",
       "      <td>1</td>\n",
       "      <td>30.0</td>\n",
       "      <td>2023</td>\n",
       "      <td>4</td>\n",
       "      <td>25</td>\n",
       "      <td>18</td>\n",
       "      <td>52</td>\n",
       "      <td>Snapfire</td>\n",
       "      <td>4</td>\n",
       "      <td>7</td>\n",
       "      <td>5</td>\n",
       "      <td>1.285714</td>\n",
       "      <td>0.571429</td>\n",
       "      <td>all</td>\n",
       "      <td>Ranged</td>\n",
       "      <td>0</td>\n",
       "      <td>0</td>\n",
       "      <td>1</td>\n",
       "      <td>1</td>\n",
       "      <td>0</td>\n",
       "      <td>0</td>\n",
       "      <td>1</td>\n",
       "      <td>2</td>\n",
       "      <td>0</td>\n",
       "      <td>1</td>\n",
       "      <td>0</td>\n",
       "      <td>0</td>\n",
       "      <td>0</td>\n",
       "      <td>1</td>\n",
       "    </tr>\n",
       "    <tr>\n",
       "      <th>554</th>\n",
       "      <td>0</td>\n",
       "      <td>1</td>\n",
       "      <td>50.0</td>\n",
       "      <td>2023</td>\n",
       "      <td>4</td>\n",
       "      <td>25</td>\n",
       "      <td>22</td>\n",
       "      <td>29</td>\n",
       "      <td>Riki</td>\n",
       "      <td>13</td>\n",
       "      <td>10</td>\n",
       "      <td>13</td>\n",
       "      <td>2.600000</td>\n",
       "      <td>1.300000</td>\n",
       "      <td>agi</td>\n",
       "      <td>Melee</td>\n",
       "      <td>1</td>\n",
       "      <td>0</td>\n",
       "      <td>0</td>\n",
       "      <td>1</td>\n",
       "      <td>0</td>\n",
       "      <td>0</td>\n",
       "      <td>0</td>\n",
       "      <td>2</td>\n",
       "      <td>1</td>\n",
       "      <td>0</td>\n",
       "      <td>0</td>\n",
       "      <td>0</td>\n",
       "      <td>1</td>\n",
       "      <td>0</td>\n",
       "    </tr>\n",
       "  </tbody>\n",
       "</table>\n",
       "</div>"
      ],
      "text/plain": [
       "     result  radiant_win  duration  year  month  day  hour  minute      hero  \\\n",
       "550       1            0      54.0  2023      4   24    19       6  Snapfire   \n",
       "551       1            0      39.0  2023      4   25     9      39  Snapfire   \n",
       "552       0            0      46.0  2023      4   25    10      30  Snapfire   \n",
       "553       0            1      30.0  2023      4   25    18      52  Snapfire   \n",
       "554       0            1      50.0  2023      4   25    22      29      Riki   \n",
       "\n",
       "     kills  deaths  assists       kda       kdr primary_attr attack_type  \\\n",
       "550     14       9       20  3.777778  1.555556          all      Ranged   \n",
       "551      9       4       26  8.750000  2.250000          all      Ranged   \n",
       "552      6       6       12  3.000000  1.000000          all      Ranged   \n",
       "553      4       7        5  1.285714  0.571429          all      Ranged   \n",
       "554     13      10       13  2.600000  1.300000          agi       Melee   \n",
       "\n",
       "     carry  pusher  nuker  disabler  initiator  durable  support  legs  agi  \\\n",
       "550      0       0      1         1          0        0        1     2    0   \n",
       "551      0       0      1         1          0        0        1     2    0   \n",
       "552      0       0      1         1          0        0        1     2    0   \n",
       "553      0       0      1         1          0        0        1     2    0   \n",
       "554      1       0      0         1          0        0        0     2    1   \n",
       "\n",
       "     all  int  str  Melee  Ranged  \n",
       "550    1    0    0      0       1  \n",
       "551    1    0    0      0       1  \n",
       "552    1    0    0      0       1  \n",
       "553    1    0    0      0       1  \n",
       "554    0    0    0      1       0  "
      ]
     },
     "execution_count": 14,
     "metadata": {},
     "output_type": "execute_result"
    }
   ],
   "source": [
    "data.tail()"
   ]
  },
  {
   "cell_type": "markdown",
   "id": "99b729d2",
   "metadata": {},
   "source": [
    "<h1>DataFrame 2: Hero Data</h1>\n",
    "The second dataset I'm loading in only contains the variables for each hero in the game: their hero name, primary attribute, attack type, roles, and number of legs. I'll use this DataFrame to look at the distribution of these variables across the entire hero pool later on."
   ]
  },
  {
   "cell_type": "code",
   "execution_count": 15,
   "id": "c5562f93",
   "metadata": {
    "scrolled": true
   },
   "outputs": [
    {
     "data": {
      "text/html": [
       "<div>\n",
       "<style scoped>\n",
       "    .dataframe tbody tr th:only-of-type {\n",
       "        vertical-align: middle;\n",
       "    }\n",
       "\n",
       "    .dataframe tbody tr th {\n",
       "        vertical-align: top;\n",
       "    }\n",
       "\n",
       "    .dataframe thead th {\n",
       "        text-align: right;\n",
       "    }\n",
       "</style>\n",
       "<table border=\"1\" class=\"dataframe\">\n",
       "  <thead>\n",
       "    <tr style=\"text-align: right;\">\n",
       "      <th></th>\n",
       "      <th>hero</th>\n",
       "      <th>localized_name</th>\n",
       "      <th>primary_attr</th>\n",
       "      <th>attack_type</th>\n",
       "      <th>carry</th>\n",
       "      <th>jungler</th>\n",
       "      <th>pusher</th>\n",
       "      <th>nuker</th>\n",
       "      <th>disabler</th>\n",
       "      <th>initiator</th>\n",
       "      <th>durable</th>\n",
       "      <th>support</th>\n",
       "      <th>legs</th>\n",
       "      <th>agi</th>\n",
       "      <th>all</th>\n",
       "      <th>int</th>\n",
       "      <th>str</th>\n",
       "      <th>Melee</th>\n",
       "      <th>Ranged</th>\n",
       "    </tr>\n",
       "  </thead>\n",
       "  <tbody>\n",
       "    <tr>\n",
       "      <th>119</th>\n",
       "      <td>129</td>\n",
       "      <td>Mars</td>\n",
       "      <td>str</td>\n",
       "      <td>Melee</td>\n",
       "      <td>1</td>\n",
       "      <td>0</td>\n",
       "      <td>0</td>\n",
       "      <td>0</td>\n",
       "      <td>1</td>\n",
       "      <td>1</td>\n",
       "      <td>1</td>\n",
       "      <td>0</td>\n",
       "      <td>2</td>\n",
       "      <td>0</td>\n",
       "      <td>0</td>\n",
       "      <td>0</td>\n",
       "      <td>1</td>\n",
       "      <td>1</td>\n",
       "      <td>0</td>\n",
       "    </tr>\n",
       "    <tr>\n",
       "      <th>120</th>\n",
       "      <td>135</td>\n",
       "      <td>Dawnbreaker</td>\n",
       "      <td>str</td>\n",
       "      <td>Melee</td>\n",
       "      <td>1</td>\n",
       "      <td>0</td>\n",
       "      <td>0</td>\n",
       "      <td>0</td>\n",
       "      <td>0</td>\n",
       "      <td>0</td>\n",
       "      <td>1</td>\n",
       "      <td>0</td>\n",
       "      <td>2</td>\n",
       "      <td>0</td>\n",
       "      <td>0</td>\n",
       "      <td>0</td>\n",
       "      <td>1</td>\n",
       "      <td>1</td>\n",
       "      <td>0</td>\n",
       "    </tr>\n",
       "    <tr>\n",
       "      <th>121</th>\n",
       "      <td>136</td>\n",
       "      <td>Marci</td>\n",
       "      <td>all</td>\n",
       "      <td>Melee</td>\n",
       "      <td>1</td>\n",
       "      <td>0</td>\n",
       "      <td>0</td>\n",
       "      <td>0</td>\n",
       "      <td>1</td>\n",
       "      <td>1</td>\n",
       "      <td>0</td>\n",
       "      <td>1</td>\n",
       "      <td>2</td>\n",
       "      <td>0</td>\n",
       "      <td>1</td>\n",
       "      <td>0</td>\n",
       "      <td>0</td>\n",
       "      <td>1</td>\n",
       "      <td>0</td>\n",
       "    </tr>\n",
       "    <tr>\n",
       "      <th>122</th>\n",
       "      <td>137</td>\n",
       "      <td>Primal Beast</td>\n",
       "      <td>str</td>\n",
       "      <td>Melee</td>\n",
       "      <td>0</td>\n",
       "      <td>0</td>\n",
       "      <td>0</td>\n",
       "      <td>0</td>\n",
       "      <td>1</td>\n",
       "      <td>1</td>\n",
       "      <td>1</td>\n",
       "      <td>0</td>\n",
       "      <td>2</td>\n",
       "      <td>0</td>\n",
       "      <td>0</td>\n",
       "      <td>0</td>\n",
       "      <td>1</td>\n",
       "      <td>1</td>\n",
       "      <td>0</td>\n",
       "    </tr>\n",
       "    <tr>\n",
       "      <th>123</th>\n",
       "      <td>138</td>\n",
       "      <td>Muerta</td>\n",
       "      <td>int</td>\n",
       "      <td>Ranged</td>\n",
       "      <td>1</td>\n",
       "      <td>0</td>\n",
       "      <td>0</td>\n",
       "      <td>1</td>\n",
       "      <td>1</td>\n",
       "      <td>0</td>\n",
       "      <td>0</td>\n",
       "      <td>0</td>\n",
       "      <td>2</td>\n",
       "      <td>0</td>\n",
       "      <td>0</td>\n",
       "      <td>1</td>\n",
       "      <td>0</td>\n",
       "      <td>0</td>\n",
       "      <td>1</td>\n",
       "    </tr>\n",
       "  </tbody>\n",
       "</table>\n",
       "</div>"
      ],
      "text/plain": [
       "     hero localized_name primary_attr attack_type  carry  jungler  pusher  \\\n",
       "119   129           Mars          str       Melee      1        0       0   \n",
       "120   135    Dawnbreaker          str       Melee      1        0       0   \n",
       "121   136          Marci          all       Melee      1        0       0   \n",
       "122   137   Primal Beast          str       Melee      0        0       0   \n",
       "123   138         Muerta          int      Ranged      1        0       0   \n",
       "\n",
       "     nuker  disabler  initiator  durable  support  legs  agi  all  int  str  \\\n",
       "119      0         1          1        1        0     2    0    0    0    1   \n",
       "120      0         0          0        1        0     2    0    0    0    1   \n",
       "121      0         1          1        0        1     2    0    1    0    0   \n",
       "122      0         1          1        1        0     2    0    0    0    1   \n",
       "123      1         1          0        0        0     2    0    0    1    0   \n",
       "\n",
       "     Melee  Ranged  \n",
       "119      1       0  \n",
       "120      1       0  \n",
       "121      1       0  \n",
       "122      1       0  \n",
       "123      0       1  "
      ]
     },
     "execution_count": 15,
     "metadata": {},
     "output_type": "execute_result"
    }
   ],
   "source": [
    "hero_data = pd.read_csv(\"dota_hero_stats.csv\")\n",
    "\n",
    "hero_headers = list(hero_data.columns)\n",
    "hero_headers[0] = 'hero' # change 'localized_named' to 'hero'\n",
    "hero_data.columns = hero_headers\n",
    "\n",
    "hero_primary_attr = pd.get_dummies(hero_data['primary_attr'])\n",
    "hero_attack_type = pd.get_dummies(hero_data['attack_type'])\n",
    "hero_data = pd.concat([hero_data, hero_primary_attr, hero_attack_type], axis=1)\n",
    "\n",
    "hero_data.tail()"
   ]
  },
  {
   "cell_type": "markdown",
   "id": "bc8124d3",
   "metadata": {},
   "source": [
    "Done! Let's get down to business."
   ]
  },
  {
   "cell_type": "code",
   "execution_count": 16,
   "id": "14f873dd",
   "metadata": {
    "scrolled": true
   },
   "outputs": [
    {
     "data": {
      "text/html": [
       "<div>\n",
       "<style scoped>\n",
       "    .dataframe tbody tr th:only-of-type {\n",
       "        vertical-align: middle;\n",
       "    }\n",
       "\n",
       "    .dataframe tbody tr th {\n",
       "        vertical-align: top;\n",
       "    }\n",
       "\n",
       "    .dataframe thead th {\n",
       "        text-align: right;\n",
       "    }\n",
       "</style>\n",
       "<table border=\"1\" class=\"dataframe\">\n",
       "  <thead>\n",
       "    <tr style=\"text-align: right;\">\n",
       "      <th></th>\n",
       "      <th>result</th>\n",
       "      <th>radiant_win</th>\n",
       "      <th>duration</th>\n",
       "      <th>year</th>\n",
       "      <th>month</th>\n",
       "      <th>day</th>\n",
       "      <th>hour</th>\n",
       "      <th>minute</th>\n",
       "      <th>kills</th>\n",
       "      <th>deaths</th>\n",
       "      <th>assists</th>\n",
       "      <th>kda</th>\n",
       "      <th>kdr</th>\n",
       "      <th>carry</th>\n",
       "      <th>pusher</th>\n",
       "      <th>nuker</th>\n",
       "      <th>disabler</th>\n",
       "      <th>initiator</th>\n",
       "      <th>durable</th>\n",
       "      <th>support</th>\n",
       "      <th>legs</th>\n",
       "      <th>agi</th>\n",
       "      <th>all</th>\n",
       "      <th>int</th>\n",
       "      <th>str</th>\n",
       "      <th>Melee</th>\n",
       "      <th>Ranged</th>\n",
       "    </tr>\n",
       "  </thead>\n",
       "  <tbody>\n",
       "    <tr>\n",
       "      <th>count</th>\n",
       "      <td>555.000000</td>\n",
       "      <td>555.000000</td>\n",
       "      <td>555.000000</td>\n",
       "      <td>555.000000</td>\n",
       "      <td>555.000000</td>\n",
       "      <td>555.000000</td>\n",
       "      <td>555.000000</td>\n",
       "      <td>555.000000</td>\n",
       "      <td>555.000000</td>\n",
       "      <td>555.000000</td>\n",
       "      <td>555.000000</td>\n",
       "      <td>555.000000</td>\n",
       "      <td>555.000000</td>\n",
       "      <td>555.000000</td>\n",
       "      <td>555.000000</td>\n",
       "      <td>555.000000</td>\n",
       "      <td>555.000000</td>\n",
       "      <td>555.000000</td>\n",
       "      <td>555.000000</td>\n",
       "      <td>555.000000</td>\n",
       "      <td>555.000000</td>\n",
       "      <td>555.000000</td>\n",
       "      <td>555.000000</td>\n",
       "      <td>555.000000</td>\n",
       "      <td>555.000000</td>\n",
       "      <td>555.000000</td>\n",
       "      <td>555.000000</td>\n",
       "    </tr>\n",
       "    <tr>\n",
       "      <th>mean</th>\n",
       "      <td>0.522523</td>\n",
       "      <td>0.542342</td>\n",
       "      <td>43.187387</td>\n",
       "      <td>2022.326126</td>\n",
       "      <td>6.259459</td>\n",
       "      <td>15.457658</td>\n",
       "      <td>18.765766</td>\n",
       "      <td>28.740541</td>\n",
       "      <td>7.041441</td>\n",
       "      <td>6.699099</td>\n",
       "      <td>15.893694</td>\n",
       "      <td>5.198680</td>\n",
       "      <td>1.795723</td>\n",
       "      <td>0.560360</td>\n",
       "      <td>0.196396</td>\n",
       "      <td>0.650450</td>\n",
       "      <td>0.832432</td>\n",
       "      <td>0.392793</td>\n",
       "      <td>0.372973</td>\n",
       "      <td>0.445045</td>\n",
       "      <td>2.111712</td>\n",
       "      <td>0.282883</td>\n",
       "      <td>0.284685</td>\n",
       "      <td>0.187387</td>\n",
       "      <td>0.245045</td>\n",
       "      <td>0.459459</td>\n",
       "      <td>0.540541</td>\n",
       "    </tr>\n",
       "    <tr>\n",
       "      <th>std</th>\n",
       "      <td>0.499943</td>\n",
       "      <td>0.498653</td>\n",
       "      <td>9.985776</td>\n",
       "      <td>0.476849</td>\n",
       "      <td>3.443363</td>\n",
       "      <td>8.557910</td>\n",
       "      <td>4.009814</td>\n",
       "      <td>16.878983</td>\n",
       "      <td>5.042428</td>\n",
       "      <td>3.398011</td>\n",
       "      <td>8.285816</td>\n",
       "      <td>5.597868</td>\n",
       "      <td>2.681323</td>\n",
       "      <td>0.496791</td>\n",
       "      <td>0.397630</td>\n",
       "      <td>0.477258</td>\n",
       "      <td>0.373819</td>\n",
       "      <td>0.488812</td>\n",
       "      <td>0.484031</td>\n",
       "      <td>0.497419</td>\n",
       "      <td>1.217408</td>\n",
       "      <td>0.450806</td>\n",
       "      <td>0.451671</td>\n",
       "      <td>0.390574</td>\n",
       "      <td>0.430502</td>\n",
       "      <td>0.498803</td>\n",
       "      <td>0.498803</td>\n",
       "    </tr>\n",
       "    <tr>\n",
       "      <th>min</th>\n",
       "      <td>0.000000</td>\n",
       "      <td>0.000000</td>\n",
       "      <td>10.000000</td>\n",
       "      <td>2021.000000</td>\n",
       "      <td>1.000000</td>\n",
       "      <td>1.000000</td>\n",
       "      <td>0.000000</td>\n",
       "      <td>0.000000</td>\n",
       "      <td>0.000000</td>\n",
       "      <td>0.000000</td>\n",
       "      <td>1.000000</td>\n",
       "      <td>0.333333</td>\n",
       "      <td>0.000000</td>\n",
       "      <td>0.000000</td>\n",
       "      <td>0.000000</td>\n",
       "      <td>0.000000</td>\n",
       "      <td>0.000000</td>\n",
       "      <td>0.000000</td>\n",
       "      <td>0.000000</td>\n",
       "      <td>0.000000</td>\n",
       "      <td>0.000000</td>\n",
       "      <td>0.000000</td>\n",
       "      <td>0.000000</td>\n",
       "      <td>0.000000</td>\n",
       "      <td>0.000000</td>\n",
       "      <td>0.000000</td>\n",
       "      <td>0.000000</td>\n",
       "    </tr>\n",
       "    <tr>\n",
       "      <th>25%</th>\n",
       "      <td>0.000000</td>\n",
       "      <td>0.000000</td>\n",
       "      <td>36.000000</td>\n",
       "      <td>2022.000000</td>\n",
       "      <td>3.000000</td>\n",
       "      <td>8.000000</td>\n",
       "      <td>17.000000</td>\n",
       "      <td>15.000000</td>\n",
       "      <td>3.000000</td>\n",
       "      <td>4.000000</td>\n",
       "      <td>10.000000</td>\n",
       "      <td>2.080128</td>\n",
       "      <td>0.428571</td>\n",
       "      <td>0.000000</td>\n",
       "      <td>0.000000</td>\n",
       "      <td>0.000000</td>\n",
       "      <td>1.000000</td>\n",
       "      <td>0.000000</td>\n",
       "      <td>0.000000</td>\n",
       "      <td>0.000000</td>\n",
       "      <td>2.000000</td>\n",
       "      <td>0.000000</td>\n",
       "      <td>0.000000</td>\n",
       "      <td>0.000000</td>\n",
       "      <td>0.000000</td>\n",
       "      <td>0.000000</td>\n",
       "      <td>0.000000</td>\n",
       "    </tr>\n",
       "    <tr>\n",
       "      <th>50%</th>\n",
       "      <td>1.000000</td>\n",
       "      <td>1.000000</td>\n",
       "      <td>42.000000</td>\n",
       "      <td>2022.000000</td>\n",
       "      <td>6.000000</td>\n",
       "      <td>16.000000</td>\n",
       "      <td>20.000000</td>\n",
       "      <td>28.000000</td>\n",
       "      <td>6.000000</td>\n",
       "      <td>7.000000</td>\n",
       "      <td>15.000000</td>\n",
       "      <td>3.363636</td>\n",
       "      <td>1.000000</td>\n",
       "      <td>1.000000</td>\n",
       "      <td>0.000000</td>\n",
       "      <td>1.000000</td>\n",
       "      <td>1.000000</td>\n",
       "      <td>0.000000</td>\n",
       "      <td>0.000000</td>\n",
       "      <td>0.000000</td>\n",
       "      <td>2.000000</td>\n",
       "      <td>0.000000</td>\n",
       "      <td>0.000000</td>\n",
       "      <td>0.000000</td>\n",
       "      <td>0.000000</td>\n",
       "      <td>0.000000</td>\n",
       "      <td>1.000000</td>\n",
       "    </tr>\n",
       "    <tr>\n",
       "      <th>75%</th>\n",
       "      <td>1.000000</td>\n",
       "      <td>1.000000</td>\n",
       "      <td>49.000000</td>\n",
       "      <td>2023.000000</td>\n",
       "      <td>9.000000</td>\n",
       "      <td>23.000000</td>\n",
       "      <td>22.000000</td>\n",
       "      <td>42.000000</td>\n",
       "      <td>10.000000</td>\n",
       "      <td>9.000000</td>\n",
       "      <td>20.000000</td>\n",
       "      <td>5.750000</td>\n",
       "      <td>2.000000</td>\n",
       "      <td>1.000000</td>\n",
       "      <td>0.000000</td>\n",
       "      <td>1.000000</td>\n",
       "      <td>1.000000</td>\n",
       "      <td>1.000000</td>\n",
       "      <td>1.000000</td>\n",
       "      <td>1.000000</td>\n",
       "      <td>2.000000</td>\n",
       "      <td>1.000000</td>\n",
       "      <td>1.000000</td>\n",
       "      <td>0.000000</td>\n",
       "      <td>0.000000</td>\n",
       "      <td>1.000000</td>\n",
       "      <td>1.000000</td>\n",
       "    </tr>\n",
       "    <tr>\n",
       "      <th>max</th>\n",
       "      <td>1.000000</td>\n",
       "      <td>1.000000</td>\n",
       "      <td>84.000000</td>\n",
       "      <td>2023.000000</td>\n",
       "      <td>12.000000</td>\n",
       "      <td>31.000000</td>\n",
       "      <td>23.000000</td>\n",
       "      <td>59.000000</td>\n",
       "      <td>33.000000</td>\n",
       "      <td>19.000000</td>\n",
       "      <td>60.000000</td>\n",
       "      <td>37.000000</td>\n",
       "      <td>24.000000</td>\n",
       "      <td>1.000000</td>\n",
       "      <td>1.000000</td>\n",
       "      <td>1.000000</td>\n",
       "      <td>1.000000</td>\n",
       "      <td>1.000000</td>\n",
       "      <td>1.000000</td>\n",
       "      <td>1.000000</td>\n",
       "      <td>8.000000</td>\n",
       "      <td>1.000000</td>\n",
       "      <td>1.000000</td>\n",
       "      <td>1.000000</td>\n",
       "      <td>1.000000</td>\n",
       "      <td>1.000000</td>\n",
       "      <td>1.000000</td>\n",
       "    </tr>\n",
       "  </tbody>\n",
       "</table>\n",
       "</div>"
      ],
      "text/plain": [
       "           result  radiant_win    duration         year       month  \\\n",
       "count  555.000000   555.000000  555.000000   555.000000  555.000000   \n",
       "mean     0.522523     0.542342   43.187387  2022.326126    6.259459   \n",
       "std      0.499943     0.498653    9.985776     0.476849    3.443363   \n",
       "min      0.000000     0.000000   10.000000  2021.000000    1.000000   \n",
       "25%      0.000000     0.000000   36.000000  2022.000000    3.000000   \n",
       "50%      1.000000     1.000000   42.000000  2022.000000    6.000000   \n",
       "75%      1.000000     1.000000   49.000000  2023.000000    9.000000   \n",
       "max      1.000000     1.000000   84.000000  2023.000000   12.000000   \n",
       "\n",
       "              day        hour      minute       kills      deaths     assists  \\\n",
       "count  555.000000  555.000000  555.000000  555.000000  555.000000  555.000000   \n",
       "mean    15.457658   18.765766   28.740541    7.041441    6.699099   15.893694   \n",
       "std      8.557910    4.009814   16.878983    5.042428    3.398011    8.285816   \n",
       "min      1.000000    0.000000    0.000000    0.000000    0.000000    1.000000   \n",
       "25%      8.000000   17.000000   15.000000    3.000000    4.000000   10.000000   \n",
       "50%     16.000000   20.000000   28.000000    6.000000    7.000000   15.000000   \n",
       "75%     23.000000   22.000000   42.000000   10.000000    9.000000   20.000000   \n",
       "max     31.000000   23.000000   59.000000   33.000000   19.000000   60.000000   \n",
       "\n",
       "              kda         kdr       carry      pusher       nuker    disabler  \\\n",
       "count  555.000000  555.000000  555.000000  555.000000  555.000000  555.000000   \n",
       "mean     5.198680    1.795723    0.560360    0.196396    0.650450    0.832432   \n",
       "std      5.597868    2.681323    0.496791    0.397630    0.477258    0.373819   \n",
       "min      0.333333    0.000000    0.000000    0.000000    0.000000    0.000000   \n",
       "25%      2.080128    0.428571    0.000000    0.000000    0.000000    1.000000   \n",
       "50%      3.363636    1.000000    1.000000    0.000000    1.000000    1.000000   \n",
       "75%      5.750000    2.000000    1.000000    0.000000    1.000000    1.000000   \n",
       "max     37.000000   24.000000    1.000000    1.000000    1.000000    1.000000   \n",
       "\n",
       "        initiator     durable     support        legs         agi         all  \\\n",
       "count  555.000000  555.000000  555.000000  555.000000  555.000000  555.000000   \n",
       "mean     0.392793    0.372973    0.445045    2.111712    0.282883    0.284685   \n",
       "std      0.488812    0.484031    0.497419    1.217408    0.450806    0.451671   \n",
       "min      0.000000    0.000000    0.000000    0.000000    0.000000    0.000000   \n",
       "25%      0.000000    0.000000    0.000000    2.000000    0.000000    0.000000   \n",
       "50%      0.000000    0.000000    0.000000    2.000000    0.000000    0.000000   \n",
       "75%      1.000000    1.000000    1.000000    2.000000    1.000000    1.000000   \n",
       "max      1.000000    1.000000    1.000000    8.000000    1.000000    1.000000   \n",
       "\n",
       "              int         str       Melee      Ranged  \n",
       "count  555.000000  555.000000  555.000000  555.000000  \n",
       "mean     0.187387    0.245045    0.459459    0.540541  \n",
       "std      0.390574    0.430502    0.498803    0.498803  \n",
       "min      0.000000    0.000000    0.000000    0.000000  \n",
       "25%      0.000000    0.000000    0.000000    0.000000  \n",
       "50%      0.000000    0.000000    0.000000    1.000000  \n",
       "75%      0.000000    0.000000    1.000000    1.000000  \n",
       "max      1.000000    1.000000    1.000000    1.000000  "
      ]
     },
     "execution_count": 16,
     "metadata": {},
     "output_type": "execute_result"
    }
   ],
   "source": [
    "data.describe()"
   ]
  },
  {
   "cell_type": "markdown",
   "id": "0ef29b96",
   "metadata": {},
   "source": [
    "<h1>Analysis</h1>\n",
    "\n",
    "<h2>Win/Loss Ratio</h2>\n",
    "First things first; the ultimate measure of whether you're a scrub or a pro... A legend or a mockery... The Win/Loss Ratio."
   ]
  },
  {
   "cell_type": "code",
   "execution_count": 17,
   "id": "dedda067",
   "metadata": {},
   "outputs": [
    {
     "name": "stdout",
     "output_type": "stream",
     "text": [
      "Wins: 290 (52.300000000000004%)\n",
      "Losses: 265 (47.699999999999996%)\n"
     ]
    }
   ],
   "source": [
    "wins = len(data[data['result'] == 1])\n",
    "wins_pct = round(wins/total_games, 3) * 100\n",
    "losses = len(data[data['result'] == 0])\n",
    "losses_pct = round(losses/total_games, 3) * 100\n",
    "\n",
    "print(f'Wins: {wins} ({wins_pct}%)')\n",
    "print(f'Losses: {losses} ({losses_pct}%)')"
   ]
  },
  {
   "cell_type": "markdown",
   "id": "acc70a9e",
   "metadata": {},
   "source": [
    "On average, I'm (slightly more often) a <strong>*WINNER!*</strong> In all seriousness, I'm not some DotA pro, so it makes sense to have such an average W/L. Sometimes you win, sometimes you don't. Approximately half of the time. <strong>For this reason, we're going to consider a W/L ratio of 0.5 the baseline</strong>; ratios below it are bad, but ratios above it are good. Throughout this analysis I'll examine how certain variables affect my chances of winning relative to this baseline."
   ]
  },
  {
   "cell_type": "markdown",
   "id": "20f56eaf",
   "metadata": {},
   "source": [
    "<h1>Radiant/Dire Advantage</h1>\n",
    "In Dota, you play on one of two teams: the Radiant or the Dire. There's no difference between being on either team except for the fact that the battlefield both teams play on is slightly asymmetrical. For a long time there was the conventional wisdom that the Dire team had a slight advantage as Roshan (a powerful monster on the map which drops an item that revives heroes) was on their side of the river that intersects the map. This has been disproven however, and the general consensus is that there is no substantive advantage that comes with being on a specific team. In theory, this should be reflected in my match results:"
   ]
  },
  {
   "cell_type": "code",
   "execution_count": 18,
   "id": "a4e39c59",
   "metadata": {},
   "outputs": [
    {
     "name": "stdout",
     "output_type": "stream",
     "text": [
      "Radiant Win %: 0.542\n",
      "Dire Win %: 0.458\n"
     ]
    }
   ],
   "source": [
    "radiant_wins = data['radiant_win'].value_counts()\n",
    "\n",
    "print('Radiant Win %:', round(radiant_wins[1]/len(data), 3))\n",
    "print('Dire Win %:', round(radiant_wins[0]/len(data), 3))"
   ]
  },
  {
   "cell_type": "markdown",
   "id": "172ac7ec",
   "metadata": {},
   "source": [
    "There appears to be an advantage to being on the Radiant side."
   ]
  },
  {
   "cell_type": "markdown",
   "id": "a7c166d9",
   "metadata": {},
   "source": [
    "<h1>Numerical Distributions</h1>\n",
    "While Win/Loss and Radiant/Dire Advantage are interesting to look at, whether you win or lose in DotA is a result of your team - the sum is greater than the individual parts, as they say. Focusing more on my personal performance, a good place to start is the distribution of some numerical variables in the dataset. A boxplot will show where the first quartile, median, third quartile, and outliers lie for a given variable. What I've decided to plot below are the most interesting ones to investigate: <strong>duration, kills, deaths, assists, kdr, kda.</strong>"
   ]
  },
  {
   "cell_type": "code",
   "execution_count": 19,
   "id": "a84711df",
   "metadata": {},
   "outputs": [
    {
     "data": {
      "text/plain": [
       "Text(0.5, 1.0, 'KDA')"
      ]
     },
     "execution_count": 19,
     "metadata": {},
     "output_type": "execute_result"
    },
    {
     "data": {
      "image/png": "[encoded data removed]",
      "text/plain": [
       "<Figure size 1296x864 with 6 Axes>"
      ]
     },
     "metadata": {
      "needs_background": "light"
     },
     "output_type": "display_data"
    }
   ],
   "source": [
    "plt.figure(figsize=(18,12))\n",
    "plt.subplot(2,3,1)\n",
    "sns.boxplot(y=data['duration'])\n",
    "plt.title('Duration')\n",
    "\n",
    "plt.subplot(2,3,2)\n",
    "sns.boxplot(y=data['kills'])\n",
    "plt.title('Kills')\n",
    "\n",
    "plt.subplot(2,3,3)\n",
    "sns.boxplot(y=data['deaths'])\n",
    "plt.title('Deaths')\n",
    "\n",
    "plt.subplot(2,3,4)\n",
    "sns.boxplot(y=data['assists'])\n",
    "plt.title('Assists')\n",
    "\n",
    "plt.subplot(2,3,5)\n",
    "sns.boxplot(y=data['kdr'])\n",
    "plt.title('KDR')\n",
    "\n",
    "plt.subplot(2,3,6)\n",
    "sns.boxplot(y=data['kda'])\n",
    "plt.title('KDA')"
   ]
  },
  {
   "cell_type": "markdown",
   "id": "3d26cfc7",
   "metadata": {},
   "source": [
    "This same data can be displayed in a table through pandas' <strong>describe</strong> function:"
   ]
  },
  {
   "cell_type": "code",
   "execution_count": 20,
   "id": "cfc86d41",
   "metadata": {},
   "outputs": [
    {
     "data": {
      "text/html": [
       "<div>\n",
       "<style scoped>\n",
       "    .dataframe tbody tr th:only-of-type {\n",
       "        vertical-align: middle;\n",
       "    }\n",
       "\n",
       "    .dataframe tbody tr th {\n",
       "        vertical-align: top;\n",
       "    }\n",
       "\n",
       "    .dataframe thead th {\n",
       "        text-align: right;\n",
       "    }\n",
       "</style>\n",
       "<table border=\"1\" class=\"dataframe\">\n",
       "  <thead>\n",
       "    <tr style=\"text-align: right;\">\n",
       "      <th></th>\n",
       "      <th>result</th>\n",
       "      <th>radiant_win</th>\n",
       "      <th>duration</th>\n",
       "      <th>year</th>\n",
       "      <th>month</th>\n",
       "      <th>day</th>\n",
       "      <th>hour</th>\n",
       "      <th>minute</th>\n",
       "      <th>kills</th>\n",
       "      <th>deaths</th>\n",
       "      <th>assists</th>\n",
       "      <th>kda</th>\n",
       "      <th>kdr</th>\n",
       "      <th>carry</th>\n",
       "      <th>pusher</th>\n",
       "      <th>nuker</th>\n",
       "      <th>disabler</th>\n",
       "      <th>initiator</th>\n",
       "      <th>durable</th>\n",
       "      <th>support</th>\n",
       "      <th>legs</th>\n",
       "      <th>agi</th>\n",
       "      <th>all</th>\n",
       "      <th>int</th>\n",
       "      <th>str</th>\n",
       "      <th>Melee</th>\n",
       "      <th>Ranged</th>\n",
       "    </tr>\n",
       "  </thead>\n",
       "  <tbody>\n",
       "    <tr>\n",
       "      <th>count</th>\n",
       "      <td>555.000000</td>\n",
       "      <td>555.000000</td>\n",
       "      <td>555.000000</td>\n",
       "      <td>555.000000</td>\n",
       "      <td>555.000000</td>\n",
       "      <td>555.000000</td>\n",
       "      <td>555.000000</td>\n",
       "      <td>555.000000</td>\n",
       "      <td>555.000000</td>\n",
       "      <td>555.000000</td>\n",
       "      <td>555.000000</td>\n",
       "      <td>555.000000</td>\n",
       "      <td>555.000000</td>\n",
       "      <td>555.000000</td>\n",
       "      <td>555.000000</td>\n",
       "      <td>555.000000</td>\n",
       "      <td>555.000000</td>\n",
       "      <td>555.000000</td>\n",
       "      <td>555.000000</td>\n",
       "      <td>555.000000</td>\n",
       "      <td>555.000000</td>\n",
       "      <td>555.000000</td>\n",
       "      <td>555.000000</td>\n",
       "      <td>555.000000</td>\n",
       "      <td>555.000000</td>\n",
       "      <td>555.000000</td>\n",
       "      <td>555.000000</td>\n",
       "    </tr>\n",
       "    <tr>\n",
       "      <th>mean</th>\n",
       "      <td>0.522523</td>\n",
       "      <td>0.542342</td>\n",
       "      <td>43.187387</td>\n",
       "      <td>2022.326126</td>\n",
       "      <td>6.259459</td>\n",
       "      <td>15.457658</td>\n",
       "      <td>18.765766</td>\n",
       "      <td>28.740541</td>\n",
       "      <td>7.041441</td>\n",
       "      <td>6.699099</td>\n",
       "      <td>15.893694</td>\n",
       "      <td>5.198680</td>\n",
       "      <td>1.795723</td>\n",
       "      <td>0.560360</td>\n",
       "      <td>0.196396</td>\n",
       "      <td>0.650450</td>\n",
       "      <td>0.832432</td>\n",
       "      <td>0.392793</td>\n",
       "      <td>0.372973</td>\n",
       "      <td>0.445045</td>\n",
       "      <td>2.111712</td>\n",
       "      <td>0.282883</td>\n",
       "      <td>0.284685</td>\n",
       "      <td>0.187387</td>\n",
       "      <td>0.245045</td>\n",
       "      <td>0.459459</td>\n",
       "      <td>0.540541</td>\n",
       "    </tr>\n",
       "    <tr>\n",
       "      <th>std</th>\n",
       "      <td>0.499943</td>\n",
       "      <td>0.498653</td>\n",
       "      <td>9.985776</td>\n",
       "      <td>0.476849</td>\n",
       "      <td>3.443363</td>\n",
       "      <td>8.557910</td>\n",
       "      <td>4.009814</td>\n",
       "      <td>16.878983</td>\n",
       "      <td>5.042428</td>\n",
       "      <td>3.398011</td>\n",
       "      <td>8.285816</td>\n",
       "      <td>5.597868</td>\n",
       "      <td>2.681323</td>\n",
       "      <td>0.496791</td>\n",
       "      <td>0.397630</td>\n",
       "      <td>0.477258</td>\n",
       "      <td>0.373819</td>\n",
       "      <td>0.488812</td>\n",
       "      <td>0.484031</td>\n",
       "      <td>0.497419</td>\n",
       "      <td>1.217408</td>\n",
       "      <td>0.450806</td>\n",
       "      <td>0.451671</td>\n",
       "      <td>0.390574</td>\n",
       "      <td>0.430502</td>\n",
       "      <td>0.498803</td>\n",
       "      <td>0.498803</td>\n",
       "    </tr>\n",
       "    <tr>\n",
       "      <th>min</th>\n",
       "      <td>0.000000</td>\n",
       "      <td>0.000000</td>\n",
       "      <td>10.000000</td>\n",
       "      <td>2021.000000</td>\n",
       "      <td>1.000000</td>\n",
       "      <td>1.000000</td>\n",
       "      <td>0.000000</td>\n",
       "      <td>0.000000</td>\n",
       "      <td>0.000000</td>\n",
       "      <td>0.000000</td>\n",
       "      <td>1.000000</td>\n",
       "      <td>0.333333</td>\n",
       "      <td>0.000000</td>\n",
       "      <td>0.000000</td>\n",
       "      <td>0.000000</td>\n",
       "      <td>0.000000</td>\n",
       "      <td>0.000000</td>\n",
       "      <td>0.000000</td>\n",
       "      <td>0.000000</td>\n",
       "      <td>0.000000</td>\n",
       "      <td>0.000000</td>\n",
       "      <td>0.000000</td>\n",
       "      <td>0.000000</td>\n",
       "      <td>0.000000</td>\n",
       "      <td>0.000000</td>\n",
       "      <td>0.000000</td>\n",
       "      <td>0.000000</td>\n",
       "    </tr>\n",
       "    <tr>\n",
       "      <th>25%</th>\n",
       "      <td>0.000000</td>\n",
       "      <td>0.000000</td>\n",
       "      <td>36.000000</td>\n",
       "      <td>2022.000000</td>\n",
       "      <td>3.000000</td>\n",
       "      <td>8.000000</td>\n",
       "      <td>17.000000</td>\n",
       "      <td>15.000000</td>\n",
       "      <td>3.000000</td>\n",
       "      <td>4.000000</td>\n",
       "      <td>10.000000</td>\n",
       "      <td>2.080128</td>\n",
       "      <td>0.428571</td>\n",
       "      <td>0.000000</td>\n",
       "      <td>0.000000</td>\n",
       "      <td>0.000000</td>\n",
       "      <td>1.000000</td>\n",
       "      <td>0.000000</td>\n",
       "      <td>0.000000</td>\n",
       "      <td>0.000000</td>\n",
       "      <td>2.000000</td>\n",
       "      <td>0.000000</td>\n",
       "      <td>0.000000</td>\n",
       "      <td>0.000000</td>\n",
       "      <td>0.000000</td>\n",
       "      <td>0.000000</td>\n",
       "      <td>0.000000</td>\n",
       "    </tr>\n",
       "    <tr>\n",
       "      <th>50%</th>\n",
       "      <td>1.000000</td>\n",
       "      <td>1.000000</td>\n",
       "      <td>42.000000</td>\n",
       "      <td>2022.000000</td>\n",
       "      <td>6.000000</td>\n",
       "      <td>16.000000</td>\n",
       "      <td>20.000000</td>\n",
       "      <td>28.000000</td>\n",
       "      <td>6.000000</td>\n",
       "      <td>7.000000</td>\n",
       "      <td>15.000000</td>\n",
       "      <td>3.363636</td>\n",
       "      <td>1.000000</td>\n",
       "      <td>1.000000</td>\n",
       "      <td>0.000000</td>\n",
       "      <td>1.000000</td>\n",
       "      <td>1.000000</td>\n",
       "      <td>0.000000</td>\n",
       "      <td>0.000000</td>\n",
       "      <td>0.000000</td>\n",
       "      <td>2.000000</td>\n",
       "      <td>0.000000</td>\n",
       "      <td>0.000000</td>\n",
       "      <td>0.000000</td>\n",
       "      <td>0.000000</td>\n",
       "      <td>0.000000</td>\n",
       "      <td>1.000000</td>\n",
       "    </tr>\n",
       "    <tr>\n",
       "      <th>75%</th>\n",
       "      <td>1.000000</td>\n",
       "      <td>1.000000</td>\n",
       "      <td>49.000000</td>\n",
       "      <td>2023.000000</td>\n",
       "      <td>9.000000</td>\n",
       "      <td>23.000000</td>\n",
       "      <td>22.000000</td>\n",
       "      <td>42.000000</td>\n",
       "      <td>10.000000</td>\n",
       "      <td>9.000000</td>\n",
       "      <td>20.000000</td>\n",
       "      <td>5.750000</td>\n",
       "      <td>2.000000</td>\n",
       "      <td>1.000000</td>\n",
       "      <td>0.000000</td>\n",
       "      <td>1.000000</td>\n",
       "      <td>1.000000</td>\n",
       "      <td>1.000000</td>\n",
       "      <td>1.000000</td>\n",
       "      <td>1.000000</td>\n",
       "      <td>2.000000</td>\n",
       "      <td>1.000000</td>\n",
       "      <td>1.000000</td>\n",
       "      <td>0.000000</td>\n",
       "      <td>0.000000</td>\n",
       "      <td>1.000000</td>\n",
       "      <td>1.000000</td>\n",
       "    </tr>\n",
       "    <tr>\n",
       "      <th>max</th>\n",
       "      <td>1.000000</td>\n",
       "      <td>1.000000</td>\n",
       "      <td>84.000000</td>\n",
       "      <td>2023.000000</td>\n",
       "      <td>12.000000</td>\n",
       "      <td>31.000000</td>\n",
       "      <td>23.000000</td>\n",
       "      <td>59.000000</td>\n",
       "      <td>33.000000</td>\n",
       "      <td>19.000000</td>\n",
       "      <td>60.000000</td>\n",
       "      <td>37.000000</td>\n",
       "      <td>24.000000</td>\n",
       "      <td>1.000000</td>\n",
       "      <td>1.000000</td>\n",
       "      <td>1.000000</td>\n",
       "      <td>1.000000</td>\n",
       "      <td>1.000000</td>\n",
       "      <td>1.000000</td>\n",
       "      <td>1.000000</td>\n",
       "      <td>8.000000</td>\n",
       "      <td>1.000000</td>\n",
       "      <td>1.000000</td>\n",
       "      <td>1.000000</td>\n",
       "      <td>1.000000</td>\n",
       "      <td>1.000000</td>\n",
       "      <td>1.000000</td>\n",
       "    </tr>\n",
       "  </tbody>\n",
       "</table>\n",
       "</div>"
      ],
      "text/plain": [
       "           result  radiant_win    duration         year       month  \\\n",
       "count  555.000000   555.000000  555.000000   555.000000  555.000000   \n",
       "mean     0.522523     0.542342   43.187387  2022.326126    6.259459   \n",
       "std      0.499943     0.498653    9.985776     0.476849    3.443363   \n",
       "min      0.000000     0.000000   10.000000  2021.000000    1.000000   \n",
       "25%      0.000000     0.000000   36.000000  2022.000000    3.000000   \n",
       "50%      1.000000     1.000000   42.000000  2022.000000    6.000000   \n",
       "75%      1.000000     1.000000   49.000000  2023.000000    9.000000   \n",
       "max      1.000000     1.000000   84.000000  2023.000000   12.000000   \n",
       "\n",
       "              day        hour      minute       kills      deaths     assists  \\\n",
       "count  555.000000  555.000000  555.000000  555.000000  555.000000  555.000000   \n",
       "mean    15.457658   18.765766   28.740541    7.041441    6.699099   15.893694   \n",
       "std      8.557910    4.009814   16.878983    5.042428    3.398011    8.285816   \n",
       "min      1.000000    0.000000    0.000000    0.000000    0.000000    1.000000   \n",
       "25%      8.000000   17.000000   15.000000    3.000000    4.000000   10.000000   \n",
       "50%     16.000000   20.000000   28.000000    6.000000    7.000000   15.000000   \n",
       "75%     23.000000   22.000000   42.000000   10.000000    9.000000   20.000000   \n",
       "max     31.000000   23.000000   59.000000   33.000000   19.000000   60.000000   \n",
       "\n",
       "              kda         kdr       carry      pusher       nuker    disabler  \\\n",
       "count  555.000000  555.000000  555.000000  555.000000  555.000000  555.000000   \n",
       "mean     5.198680    1.795723    0.560360    0.196396    0.650450    0.832432   \n",
       "std      5.597868    2.681323    0.496791    0.397630    0.477258    0.373819   \n",
       "min      0.333333    0.000000    0.000000    0.000000    0.000000    0.000000   \n",
       "25%      2.080128    0.428571    0.000000    0.000000    0.000000    1.000000   \n",
       "50%      3.363636    1.000000    1.000000    0.000000    1.000000    1.000000   \n",
       "75%      5.750000    2.000000    1.000000    0.000000    1.000000    1.000000   \n",
       "max     37.000000   24.000000    1.000000    1.000000    1.000000    1.000000   \n",
       "\n",
       "        initiator     durable     support        legs         agi         all  \\\n",
       "count  555.000000  555.000000  555.000000  555.000000  555.000000  555.000000   \n",
       "mean     0.392793    0.372973    0.445045    2.111712    0.282883    0.284685   \n",
       "std      0.488812    0.484031    0.497419    1.217408    0.450806    0.451671   \n",
       "min      0.000000    0.000000    0.000000    0.000000    0.000000    0.000000   \n",
       "25%      0.000000    0.000000    0.000000    2.000000    0.000000    0.000000   \n",
       "50%      0.000000    0.000000    0.000000    2.000000    0.000000    0.000000   \n",
       "75%      1.000000    1.000000    1.000000    2.000000    1.000000    1.000000   \n",
       "max      1.000000    1.000000    1.000000    8.000000    1.000000    1.000000   \n",
       "\n",
       "              int         str       Melee      Ranged  \n",
       "count  555.000000  555.000000  555.000000  555.000000  \n",
       "mean     0.187387    0.245045    0.459459    0.540541  \n",
       "std      0.390574    0.430502    0.498803    0.498803  \n",
       "min      0.000000    0.000000    0.000000    0.000000  \n",
       "25%      0.000000    0.000000    0.000000    0.000000  \n",
       "50%      0.000000    0.000000    0.000000    1.000000  \n",
       "75%      0.000000    0.000000    1.000000    1.000000  \n",
       "max      1.000000    1.000000    1.000000    1.000000  "
      ]
     },
     "execution_count": 20,
     "metadata": {},
     "output_type": "execute_result"
    }
   ],
   "source": [
    "data.describe()"
   ]
  },
  {
   "cell_type": "markdown",
   "id": "15996bec",
   "metadata": {},
   "source": [
    "Duration:\n",
    "<ul>\n",
    "<li>Most games last between 36 and 49 minutes, with a median of 42 minutes. So if the game is trash, you're trapped for the better half of an hour.</li>\n",
    "<li>Shortest game was 10 minutes (someone disconnects after firstblood and the rest of their team leaves), longest game was 1 hour 24 minutes. Did I win that game?</li>\n",
    "</ul>"
   ]
  },
  {
   "cell_type": "code",
   "execution_count": 21,
   "id": "f16cef73",
   "metadata": {},
   "outputs": [
    {
     "data": {
      "text/plain": [
       "102    1\n",
       "Name: result, dtype: int64"
      ]
     },
     "execution_count": 21,
     "metadata": {},
     "output_type": "execute_result"
    }
   ],
   "source": [
    "data.loc[data['duration'] ==84]['result']"
   ]
  },
  {
   "cell_type": "markdown",
   "id": "b8dfe72d",
   "metadata": {},
   "source": [
    "Heck yeah; that's a hard fought win.\n",
    "\n",
    "<h1>Kills/Deaths/Assists/KDR/KDA</h1>\n",
    "<ul>\n",
    "<li>Average 7.04 kills per match, 6.69 deaths, 15.89 assists. The median, not as affected by outliers, gives what I consider to be a more typical representation: 6 kills, 7 deaths, 15 assists. The standard deviations for kills and assists are wide compared to the medians, while the standard deviation for deaths is a bit smaller. This means that there is a greater amount of variance in the kills I get per match, but I generally average pretty close to 7 deaths.</li>\n",
    "\n",
    "<li>Max kills: 33. Max deaths: 19.</li>\n",
    "\n",
    "<li>KDR and KDA naturally follow the ratios given for kills, deaths, and assists. Mean KDA: 5.19, Mean KDR: 1.79. Median KDA: 3.36, Median KDR: 1. The median KDR comes from both median kills and deaths being close. The thing about DotA is, if you're losing, you're often getting wiped - getting wrecked by the other team and dying a lot. On the flip side, when you're winning, your KDA and KDR ratios will be pretty high (although not so much for KDR if you're a support). To demonstrate this, let's partition the data into wins and losses and examine the median KDRs and KDAs.</li>\n",
    "</ul>"
   ]
  },
  {
   "cell_type": "code",
   "execution_count": 22,
   "id": "858448f2",
   "metadata": {},
   "outputs": [
    {
     "name": "stdout",
     "output_type": "stream",
     "text": [
      "Win kdr : 1.6666666666666667\n",
      "Loss kdr : 0.5714285714285714\n",
      "Win kda : 5.5\n",
      "Loss kda : 2.1\n"
     ]
    }
   ],
   "source": [
    "wins = data[data['result'] == 1]\n",
    "losses = data[data['result'] == 0]\n",
    "\n",
    "attrs = ['kdr', 'kda']\n",
    "for a in attrs:\n",
    "    print('Win', a, ':', wins[a].median())\n",
    "    print('Loss', a, ':', losses[a].median())"
   ]
  },
  {
   "cell_type": "markdown",
   "id": "9407f4d8",
   "metadata": {},
   "source": [
    "The majority of kills and deaths in DotA will largely occur as a result of teamfights in the mid to late game; where either one team (or both) have reached enough strength to make concentrated pushes towards the enemy's ancient. The outcome of these teamfights can have a pretty major impact on the momentum of the match, which will translate into the number of kills and deaths each player has. If you're winning the game, you're winning teamfights and slaying the other team. When you're losing... you're getting slayed. This is reflected pretty well in the ratios.</br>\n",
    "Let's examine the matches where I <i>definitely</i> slayed: the upper kill outlier matches (20+ kills):"
   ]
  },
  {
   "cell_type": "code",
   "execution_count": 23,
   "id": "b9a0ba32",
   "metadata": {},
   "outputs": [
    {
     "data": {
      "text/html": [
       "<div>\n",
       "<style scoped>\n",
       "    .dataframe tbody tr th:only-of-type {\n",
       "        vertical-align: middle;\n",
       "    }\n",
       "\n",
       "    .dataframe tbody tr th {\n",
       "        vertical-align: top;\n",
       "    }\n",
       "\n",
       "    .dataframe thead th {\n",
       "        text-align: right;\n",
       "    }\n",
       "</style>\n",
       "<table border=\"1\" class=\"dataframe\">\n",
       "  <thead>\n",
       "    <tr style=\"text-align: right;\">\n",
       "      <th></th>\n",
       "      <th>result</th>\n",
       "      <th>radiant_win</th>\n",
       "      <th>duration</th>\n",
       "      <th>year</th>\n",
       "      <th>month</th>\n",
       "      <th>day</th>\n",
       "      <th>hour</th>\n",
       "      <th>minute</th>\n",
       "      <th>hero</th>\n",
       "      <th>kills</th>\n",
       "      <th>deaths</th>\n",
       "      <th>assists</th>\n",
       "      <th>kda</th>\n",
       "      <th>kdr</th>\n",
       "      <th>primary_attr</th>\n",
       "      <th>attack_type</th>\n",
       "      <th>carry</th>\n",
       "      <th>pusher</th>\n",
       "      <th>nuker</th>\n",
       "      <th>disabler</th>\n",
       "      <th>initiator</th>\n",
       "      <th>durable</th>\n",
       "      <th>support</th>\n",
       "      <th>legs</th>\n",
       "      <th>agi</th>\n",
       "      <th>all</th>\n",
       "      <th>int</th>\n",
       "      <th>str</th>\n",
       "      <th>Melee</th>\n",
       "      <th>Ranged</th>\n",
       "    </tr>\n",
       "  </thead>\n",
       "  <tbody>\n",
       "    <tr>\n",
       "      <th>39</th>\n",
       "      <td>1</td>\n",
       "      <td>1</td>\n",
       "      <td>45.0</td>\n",
       "      <td>2022</td>\n",
       "      <td>4</td>\n",
       "      <td>21</td>\n",
       "      <td>19</td>\n",
       "      <td>19</td>\n",
       "      <td>Legion Commander</td>\n",
       "      <td>23</td>\n",
       "      <td>6</td>\n",
       "      <td>22</td>\n",
       "      <td>7.500000</td>\n",
       "      <td>3.833333</td>\n",
       "      <td>str</td>\n",
       "      <td>Melee</td>\n",
       "      <td>1</td>\n",
       "      <td>0</td>\n",
       "      <td>1</td>\n",
       "      <td>1</td>\n",
       "      <td>1</td>\n",
       "      <td>1</td>\n",
       "      <td>0</td>\n",
       "      <td>2</td>\n",
       "      <td>0</td>\n",
       "      <td>0</td>\n",
       "      <td>0</td>\n",
       "      <td>1</td>\n",
       "      <td>1</td>\n",
       "      <td>0</td>\n",
       "    </tr>\n",
       "    <tr>\n",
       "      <th>50</th>\n",
       "      <td>1</td>\n",
       "      <td>0</td>\n",
       "      <td>66.0</td>\n",
       "      <td>2022</td>\n",
       "      <td>5</td>\n",
       "      <td>21</td>\n",
       "      <td>17</td>\n",
       "      <td>47</td>\n",
       "      <td>Drow Ranger</td>\n",
       "      <td>23</td>\n",
       "      <td>11</td>\n",
       "      <td>18</td>\n",
       "      <td>3.727273</td>\n",
       "      <td>2.090909</td>\n",
       "      <td>agi</td>\n",
       "      <td>Ranged</td>\n",
       "      <td>1</td>\n",
       "      <td>1</td>\n",
       "      <td>0</td>\n",
       "      <td>1</td>\n",
       "      <td>0</td>\n",
       "      <td>0</td>\n",
       "      <td>0</td>\n",
       "      <td>2</td>\n",
       "      <td>1</td>\n",
       "      <td>0</td>\n",
       "      <td>0</td>\n",
       "      <td>0</td>\n",
       "      <td>0</td>\n",
       "      <td>1</td>\n",
       "    </tr>\n",
       "    <tr>\n",
       "      <th>82</th>\n",
       "      <td>1</td>\n",
       "      <td>0</td>\n",
       "      <td>50.0</td>\n",
       "      <td>2022</td>\n",
       "      <td>6</td>\n",
       "      <td>11</td>\n",
       "      <td>12</td>\n",
       "      <td>34</td>\n",
       "      <td>Chaos Knight</td>\n",
       "      <td>21</td>\n",
       "      <td>4</td>\n",
       "      <td>19</td>\n",
       "      <td>10.000000</td>\n",
       "      <td>5.250000</td>\n",
       "      <td>str</td>\n",
       "      <td>Melee</td>\n",
       "      <td>1</td>\n",
       "      <td>1</td>\n",
       "      <td>0</td>\n",
       "      <td>1</td>\n",
       "      <td>1</td>\n",
       "      <td>1</td>\n",
       "      <td>0</td>\n",
       "      <td>2</td>\n",
       "      <td>0</td>\n",
       "      <td>0</td>\n",
       "      <td>0</td>\n",
       "      <td>1</td>\n",
       "      <td>1</td>\n",
       "      <td>0</td>\n",
       "    </tr>\n",
       "    <tr>\n",
       "      <th>278</th>\n",
       "      <td>0</td>\n",
       "      <td>0</td>\n",
       "      <td>67.0</td>\n",
       "      <td>2022</td>\n",
       "      <td>10</td>\n",
       "      <td>27</td>\n",
       "      <td>23</td>\n",
       "      <td>59</td>\n",
       "      <td>Naga Siren</td>\n",
       "      <td>23</td>\n",
       "      <td>6</td>\n",
       "      <td>23</td>\n",
       "      <td>7.666667</td>\n",
       "      <td>3.833333</td>\n",
       "      <td>agi</td>\n",
       "      <td>Melee</td>\n",
       "      <td>1</td>\n",
       "      <td>1</td>\n",
       "      <td>0</td>\n",
       "      <td>1</td>\n",
       "      <td>1</td>\n",
       "      <td>0</td>\n",
       "      <td>1</td>\n",
       "      <td>0</td>\n",
       "      <td>1</td>\n",
       "      <td>0</td>\n",
       "      <td>0</td>\n",
       "      <td>0</td>\n",
       "      <td>1</td>\n",
       "      <td>0</td>\n",
       "    </tr>\n",
       "    <tr>\n",
       "      <th>325</th>\n",
       "      <td>1</td>\n",
       "      <td>0</td>\n",
       "      <td>44.0</td>\n",
       "      <td>2022</td>\n",
       "      <td>11</td>\n",
       "      <td>21</td>\n",
       "      <td>15</td>\n",
       "      <td>17</td>\n",
       "      <td>Chaos Knight</td>\n",
       "      <td>21</td>\n",
       "      <td>6</td>\n",
       "      <td>9</td>\n",
       "      <td>5.000000</td>\n",
       "      <td>3.500000</td>\n",
       "      <td>str</td>\n",
       "      <td>Melee</td>\n",
       "      <td>1</td>\n",
       "      <td>1</td>\n",
       "      <td>0</td>\n",
       "      <td>1</td>\n",
       "      <td>1</td>\n",
       "      <td>1</td>\n",
       "      <td>0</td>\n",
       "      <td>2</td>\n",
       "      <td>0</td>\n",
       "      <td>0</td>\n",
       "      <td>0</td>\n",
       "      <td>1</td>\n",
       "      <td>1</td>\n",
       "      <td>0</td>\n",
       "    </tr>\n",
       "    <tr>\n",
       "      <th>342</th>\n",
       "      <td>1</td>\n",
       "      <td>0</td>\n",
       "      <td>52.0</td>\n",
       "      <td>2022</td>\n",
       "      <td>11</td>\n",
       "      <td>27</td>\n",
       "      <td>16</td>\n",
       "      <td>46</td>\n",
       "      <td>Huskar</td>\n",
       "      <td>23</td>\n",
       "      <td>8</td>\n",
       "      <td>19</td>\n",
       "      <td>5.250000</td>\n",
       "      <td>2.875000</td>\n",
       "      <td>str</td>\n",
       "      <td>Ranged</td>\n",
       "      <td>1</td>\n",
       "      <td>0</td>\n",
       "      <td>0</td>\n",
       "      <td>0</td>\n",
       "      <td>1</td>\n",
       "      <td>1</td>\n",
       "      <td>0</td>\n",
       "      <td>2</td>\n",
       "      <td>0</td>\n",
       "      <td>0</td>\n",
       "      <td>0</td>\n",
       "      <td>1</td>\n",
       "      <td>0</td>\n",
       "      <td>1</td>\n",
       "    </tr>\n",
       "    <tr>\n",
       "      <th>358</th>\n",
       "      <td>1</td>\n",
       "      <td>0</td>\n",
       "      <td>45.0</td>\n",
       "      <td>2022</td>\n",
       "      <td>12</td>\n",
       "      <td>2</td>\n",
       "      <td>18</td>\n",
       "      <td>38</td>\n",
       "      <td>Sniper</td>\n",
       "      <td>23</td>\n",
       "      <td>4</td>\n",
       "      <td>19</td>\n",
       "      <td>10.500000</td>\n",
       "      <td>5.750000</td>\n",
       "      <td>agi</td>\n",
       "      <td>Ranged</td>\n",
       "      <td>1</td>\n",
       "      <td>0</td>\n",
       "      <td>1</td>\n",
       "      <td>0</td>\n",
       "      <td>0</td>\n",
       "      <td>0</td>\n",
       "      <td>0</td>\n",
       "      <td>2</td>\n",
       "      <td>1</td>\n",
       "      <td>0</td>\n",
       "      <td>0</td>\n",
       "      <td>0</td>\n",
       "      <td>0</td>\n",
       "      <td>1</td>\n",
       "    </tr>\n",
       "    <tr>\n",
       "      <th>366</th>\n",
       "      <td>1</td>\n",
       "      <td>0</td>\n",
       "      <td>68.0</td>\n",
       "      <td>2022</td>\n",
       "      <td>12</td>\n",
       "      <td>7</td>\n",
       "      <td>20</td>\n",
       "      <td>44</td>\n",
       "      <td>Sniper</td>\n",
       "      <td>33</td>\n",
       "      <td>10</td>\n",
       "      <td>20</td>\n",
       "      <td>5.300000</td>\n",
       "      <td>3.300000</td>\n",
       "      <td>agi</td>\n",
       "      <td>Ranged</td>\n",
       "      <td>1</td>\n",
       "      <td>0</td>\n",
       "      <td>1</td>\n",
       "      <td>0</td>\n",
       "      <td>0</td>\n",
       "      <td>0</td>\n",
       "      <td>0</td>\n",
       "      <td>2</td>\n",
       "      <td>1</td>\n",
       "      <td>0</td>\n",
       "      <td>0</td>\n",
       "      <td>0</td>\n",
       "      <td>0</td>\n",
       "      <td>1</td>\n",
       "    </tr>\n",
       "    <tr>\n",
       "      <th>370</th>\n",
       "      <td>1</td>\n",
       "      <td>1</td>\n",
       "      <td>43.0</td>\n",
       "      <td>2022</td>\n",
       "      <td>12</td>\n",
       "      <td>30</td>\n",
       "      <td>17</td>\n",
       "      <td>33</td>\n",
       "      <td>Huskar</td>\n",
       "      <td>21</td>\n",
       "      <td>1</td>\n",
       "      <td>11</td>\n",
       "      <td>32.000000</td>\n",
       "      <td>21.000000</td>\n",
       "      <td>str</td>\n",
       "      <td>Ranged</td>\n",
       "      <td>1</td>\n",
       "      <td>0</td>\n",
       "      <td>0</td>\n",
       "      <td>0</td>\n",
       "      <td>1</td>\n",
       "      <td>1</td>\n",
       "      <td>0</td>\n",
       "      <td>2</td>\n",
       "      <td>0</td>\n",
       "      <td>0</td>\n",
       "      <td>0</td>\n",
       "      <td>1</td>\n",
       "      <td>0</td>\n",
       "      <td>1</td>\n",
       "    </tr>\n",
       "    <tr>\n",
       "      <th>407</th>\n",
       "      <td>1</td>\n",
       "      <td>1</td>\n",
       "      <td>42.0</td>\n",
       "      <td>2023</td>\n",
       "      <td>2</td>\n",
       "      <td>2</td>\n",
       "      <td>18</td>\n",
       "      <td>49</td>\n",
       "      <td>Slark</td>\n",
       "      <td>24</td>\n",
       "      <td>0</td>\n",
       "      <td>11</td>\n",
       "      <td>35.000000</td>\n",
       "      <td>24.000000</td>\n",
       "      <td>agi</td>\n",
       "      <td>Melee</td>\n",
       "      <td>1</td>\n",
       "      <td>0</td>\n",
       "      <td>1</td>\n",
       "      <td>1</td>\n",
       "      <td>0</td>\n",
       "      <td>0</td>\n",
       "      <td>0</td>\n",
       "      <td>2</td>\n",
       "      <td>1</td>\n",
       "      <td>0</td>\n",
       "      <td>0</td>\n",
       "      <td>0</td>\n",
       "      <td>1</td>\n",
       "      <td>0</td>\n",
       "    </tr>\n",
       "    <tr>\n",
       "      <th>414</th>\n",
       "      <td>1</td>\n",
       "      <td>0</td>\n",
       "      <td>54.0</td>\n",
       "      <td>2023</td>\n",
       "      <td>2</td>\n",
       "      <td>5</td>\n",
       "      <td>14</td>\n",
       "      <td>52</td>\n",
       "      <td>Slark</td>\n",
       "      <td>33</td>\n",
       "      <td>5</td>\n",
       "      <td>16</td>\n",
       "      <td>9.800000</td>\n",
       "      <td>6.600000</td>\n",
       "      <td>agi</td>\n",
       "      <td>Melee</td>\n",
       "      <td>1</td>\n",
       "      <td>0</td>\n",
       "      <td>1</td>\n",
       "      <td>1</td>\n",
       "      <td>0</td>\n",
       "      <td>0</td>\n",
       "      <td>0</td>\n",
       "      <td>2</td>\n",
       "      <td>1</td>\n",
       "      <td>0</td>\n",
       "      <td>0</td>\n",
       "      <td>0</td>\n",
       "      <td>1</td>\n",
       "      <td>0</td>\n",
       "    </tr>\n",
       "  </tbody>\n",
       "</table>\n",
       "</div>"
      ],
      "text/plain": [
       "     result  radiant_win  duration  year  month  day  hour  minute  \\\n",
       "39        1            1      45.0  2022      4   21    19      19   \n",
       "50        1            0      66.0  2022      5   21    17      47   \n",
       "82        1            0      50.0  2022      6   11    12      34   \n",
       "278       0            0      67.0  2022     10   27    23      59   \n",
       "325       1            0      44.0  2022     11   21    15      17   \n",
       "342       1            0      52.0  2022     11   27    16      46   \n",
       "358       1            0      45.0  2022     12    2    18      38   \n",
       "366       1            0      68.0  2022     12    7    20      44   \n",
       "370       1            1      43.0  2022     12   30    17      33   \n",
       "407       1            1      42.0  2023      2    2    18      49   \n",
       "414       1            0      54.0  2023      2    5    14      52   \n",
       "\n",
       "                 hero  kills  deaths  assists        kda        kdr  \\\n",
       "39   Legion Commander     23       6       22   7.500000   3.833333   \n",
       "50        Drow Ranger     23      11       18   3.727273   2.090909   \n",
       "82       Chaos Knight     21       4       19  10.000000   5.250000   \n",
       "278        Naga Siren     23       6       23   7.666667   3.833333   \n",
       "325      Chaos Knight     21       6        9   5.000000   3.500000   \n",
       "342            Huskar     23       8       19   5.250000   2.875000   \n",
       "358            Sniper     23       4       19  10.500000   5.750000   \n",
       "366            Sniper     33      10       20   5.300000   3.300000   \n",
       "370            Huskar     21       1       11  32.000000  21.000000   \n",
       "407             Slark     24       0       11  35.000000  24.000000   \n",
       "414             Slark     33       5       16   9.800000   6.600000   \n",
       "\n",
       "    primary_attr attack_type  carry  pusher  nuker  disabler  initiator  \\\n",
       "39           str       Melee      1       0      1         1          1   \n",
       "50           agi      Ranged      1       1      0         1          0   \n",
       "82           str       Melee      1       1      0         1          1   \n",
       "278          agi       Melee      1       1      0         1          1   \n",
       "325          str       Melee      1       1      0         1          1   \n",
       "342          str      Ranged      1       0      0         0          1   \n",
       "358          agi      Ranged      1       0      1         0          0   \n",
       "366          agi      Ranged      1       0      1         0          0   \n",
       "370          str      Ranged      1       0      0         0          1   \n",
       "407          agi       Melee      1       0      1         1          0   \n",
       "414          agi       Melee      1       0      1         1          0   \n",
       "\n",
       "     durable  support  legs  agi  all  int  str  Melee  Ranged  \n",
       "39         1        0     2    0    0    0    1      1       0  \n",
       "50         0        0     2    1    0    0    0      0       1  \n",
       "82         1        0     2    0    0    0    1      1       0  \n",
       "278        0        1     0    1    0    0    0      1       0  \n",
       "325        1        0     2    0    0    0    1      1       0  \n",
       "342        1        0     2    0    0    0    1      0       1  \n",
       "358        0        0     2    1    0    0    0      0       1  \n",
       "366        0        0     2    1    0    0    0      0       1  \n",
       "370        1        0     2    0    0    0    1      0       1  \n",
       "407        0        0     2    1    0    0    0      1       0  \n",
       "414        0        0     2    1    0    0    0      1       0  "
      ]
     },
     "execution_count": 23,
     "metadata": {},
     "output_type": "execute_result"
    }
   ],
   "source": [
    "data[data['kills'] > 20]"
   ]
  },
  {
   "cell_type": "markdown",
   "id": "2ba29a38",
   "metadata": {},
   "source": [
    "A couple things to notice here. First, not all wins - your team has to be from a whole other dimension of suck to lose when you're doing this well(like in that Naga Siren game). Second, all these heroes are carries."
   ]
  },
  {
   "cell_type": "markdown",
   "id": "a2ef7a31",
   "metadata": {},
   "source": [
    "<h1>Variable Correlation</h1>\n",
    "A way to get a great overview of the variables in the dataset, and see which ones are particularly important, is to make a correlation matrix. This will show us which variables are positively and negatively correlated. If variable A is positively correlated with variable B, when A goes up, so does B. A negatively correlation would be when A goes down, B goes up."
   ]
  },
  {
   "cell_type": "code",
   "execution_count": 24,
   "id": "10c667d5",
   "metadata": {},
   "outputs": [],
   "source": [
    "match_corr = data.corr()\n",
    "import seaborn as sns"
   ]
  },
  {
   "cell_type": "code",
   "execution_count": 25,
   "id": "b4cfd957",
   "metadata": {
    "scrolled": true
   },
   "outputs": [
    {
     "data": {
      "text/plain": [
       "Text(0.5, 1.0, 'Correlation Matrix of Match Variables')"
      ]
     },
     "execution_count": 25,
     "metadata": {},
     "output_type": "execute_result"
    },
    {
     "data": {
      "image/png": "[encoded data removed]",
      "text/plain": [
       "<Figure size 864x864 with 2 Axes>"
      ]
     },
     "metadata": {
      "needs_background": "light"
     },
     "output_type": "display_data"
    }
   ],
   "source": [
    "plt.figure(figsize=(12,12))\n",
    "sns.heatmap(match_corr, vmax=1, square=True, linewidth=.5, cmap=\"coolwarm\")\n",
    "plt.title('Correlation Matrix of Match Variables')"
   ]
  },
  {
   "cell_type": "markdown",
   "id": "f27fc343",
   "metadata": {},
   "source": [
    "The hotter a square looks, the more positively correlated its row/column variables are. The colder, the more negatively correlated.\n",
    "<ul>\n",
    "    <li>Some variables have very obvious correlations. For example, the correlation between Melee and Ranged attack types is -1; you can only be one or the other. KDR and KDA have a very strong positve correlation, because they're both derived from largely the same variables (kills and deaths).</li>\n",
    "    <li>The duration of the game has positive correlations with kills, deaths, and assists. This intuitively makes sense; longer games mean more time spent fighting, killing, and dying. What's most interesting is that duration is more strongly correlated with deaths than kills. This would suggest that in longer games, I'm more likely to die than kill.</li>\n",
    "    <li>That being said, there's no substantive correlation between duration and match result. Result shows moderate positve correlations with kills, deaths, KDR, and KDA. The strongest correlation is with KDA, suggesting that it's more important to have a higher KDA than it is to have a higher KDR if you want to win. The only difference between the two metrics is assists, showing that the more you can help your teammates get kills, the more likely your team is to win. Playing with the team is more effective than being a lone wolf - shocking!</li>\n",
    "    <li>Hero roles, attributes, and attack types are correlated (more on all these things soon to come). Strength heroes are postively correlated with being melee and durable. Intelligence heroes are positively correlated with being supports and ranged (and are negatively correlated with being durable). Agility heroes have a moderate positve correlation with being carries, but don't have any correlations with either attack type.</li>\n",
    "</ul>"
   ]
  },
  {
   "cell_type": "markdown",
   "id": "2056b6c3",
   "metadata": {},
   "source": [
    "<h1>Hero Stats</h1>\n",
    "In Dota 2, every player controls a unique hero character. How well you can play your chosen hero, and how well it fits into your team's lineup, are crucial factors in winning a match. In this section I'll examine which heroes I played the most, and had the best W/L, KDR, and KDA ratios with. At the time of writing this, there are currently 124 heroes to pick from in Dota 2."
   ]
  },
  {
   "cell_type": "code",
   "execution_count": 26,
   "id": "cb8d6fff",
   "metadata": {},
   "outputs": [
    {
     "name": "stdout",
     "output_type": "stream",
     "text": [
      "I've played 81 out of 124 total heroes atleast once, or 65.0% of the total roster.\n"
     ]
    }
   ],
   "source": [
    "total_hero_pool = len(hero_data)\n",
    "ive_played = len(data['hero'].unique())\n",
    "ive_played_pct = round(ive_played/total_hero_pool, 2) * 100\n",
    "print(f\"I've played {ive_played} out of {total_hero_pool} total heroes atleast once, or {ive_played_pct}% of the total roster.\")"
   ]
  },
  {
   "cell_type": "markdown",
   "id": "e96789c5",
   "metadata": {},
   "source": [
    "Although I've played 65% of all total heroes in the game, I haven't played them all in equal amounts. Because of this, it makes the most sense to pay attention to the ratios with heroes I've played a significant amount of times. To illustrate this point, let's look at the top 10 heroes I have the highest W/L ratios with:"
   ]
  },
  {
   "cell_type": "code",
   "execution_count": 27,
   "id": "fff79950",
   "metadata": {},
   "outputs": [
    {
     "data": {
      "text/plain": [
       "Text(0.5, 0, 'Win Loss Ratio')"
      ]
     },
     "execution_count": 27,
     "metadata": {},
     "output_type": "execute_result"
    },
    {
     "data": {
      "image/png": "[encoded data removed]",
      "text/plain": [
       "<Figure size 1296x576 with 1 Axes>"
      ]
     },
     "metadata": {
      "needs_background": "light"
     },
     "output_type": "display_data"
    }
   ],
   "source": [
    "# Top 5 W/L ratios\n",
    "plt.figure(figsize=(18,8))\n",
    "hero = data.groupby('hero')\n",
    "hero_winloss = hero['result'].mean().sort_values(ascending=False)\n",
    "top_winloss = hero_winloss[:10]\n",
    "sns.barplot(x=top_winloss, y=top_winloss.index)\n",
    "plt.xlabel('Win Loss Ratio')"
   ]
  },
  {
   "cell_type": "markdown",
   "id": "0c8a7ce2",
   "metadata": {},
   "source": [
    "A perfect W/L ratio with 7 heroes(!), and over 70% ratio with the other three. But how often have I played each one?"
   ]
  },
  {
   "cell_type": "code",
   "execution_count": 28,
   "id": "e7f1667f",
   "metadata": {},
   "outputs": [
    {
     "name": "stdout",
     "output_type": "stream",
     "text": [
      "I've played Shadow Fiend 1 times, or 0.2% of my total games.\n",
      "I've played Wraith King 1 times, or 0.2% of my total games.\n",
      "I've played Bane 1 times, or 0.2% of my total games.\n",
      "I've played Kunkka 6 times, or 1.0999999999999999% of my total games.\n",
      "I've played Anti-Mage 1 times, or 0.2% of my total games.\n",
      "I've played Ogre Magi 1 times, or 0.2% of my total games.\n",
      "I've played Sniper 3 times, or 0.5% of my total games.\n",
      "I've played Zeus 9 times, or 1.6% of my total games.\n",
      "I've played Medusa 7 times, or 1.3% of my total games.\n",
      "I've played Sand King 13 times, or 2.3% of my total games.\n"
     ]
    }
   ],
   "source": [
    "for hero in top_winloss.index:\n",
    "    times_played = len(data[data['hero'] == hero])\n",
    "    times_played_pct = round(times_played / total_games, 3) * 100\n",
    "    print(f\"I've played {hero} {times_played} times, or {times_played_pct}% of my total games.\")"
   ]
  },
  {
   "cell_type": "markdown",
   "id": "2137ec2d",
   "metadata": {},
   "source": [
    "Clearly, I'll have to sort by the number of times I've played each hero to get meaningful conclusions. For the purposes of this analysis, lets focus on the 30 heroes I've played the most."
   ]
  },
  {
   "cell_type": "code",
   "execution_count": 29,
   "id": "eb204c09",
   "metadata": {},
   "outputs": [],
   "source": [
    "hero_mostplayed30 = data['hero'].value_counts()[:30]\n",
    "mostplayed30_winloss = hero_winloss[hero_mostplayed30.index]"
   ]
  },
  {
   "cell_type": "code",
   "execution_count": 30,
   "id": "6b173686",
   "metadata": {},
   "outputs": [
    {
     "name": "stdout",
     "output_type": "stream",
     "text": [
      "The top 30 heroes account for 77.12% of my total games.\n"
     ]
    }
   ],
   "source": [
    "total_hero_pct = 0\n",
    "for num_games in hero_mostplayed30:\n",
    "    pct = (num_games/total_games) * 100\n",
    "    total_hero_pct += pct\n",
    "print(f'The top 30 heroes account for {round(total_hero_pct, 2)}% of my total games.')"
   ]
  },
  {
   "cell_type": "markdown",
   "id": "3592b441",
   "metadata": {},
   "source": [
    "These 30 heroes cover a good majority of my total games, so I'm comfortable leaving out the remaining 94. Let's start by looking at the top 30 heroes and their W/L ratios:"
   ]
  },
  {
   "cell_type": "code",
   "execution_count": 31,
   "id": "71ba0ce3",
   "metadata": {},
   "outputs": [
    {
     "data": {
      "text/plain": [
       "Text(0.5, 0, 'W/L Ratio')"
      ]
     },
     "execution_count": 31,
     "metadata": {},
     "output_type": "execute_result"
    },
    {
     "data": {
      "image/png": "[encoded data removed]",
      "text/plain": [
       "<Figure size 1296x576 with 2 Axes>"
      ]
     },
     "metadata": {
      "needs_background": "light"
     },
     "output_type": "display_data"
    }
   ],
   "source": [
    "plt.figure(figsize=(18,8))\n",
    "\n",
    "plt.subplot(1, 2, 1)\n",
    "sns.barplot(x=hero_mostplayed30, y=hero_mostplayed30.index)\n",
    "plt.title('Top 30 Most Played Heroes')\n",
    "plt.xlabel('Games Played')\n",
    "\n",
    "plt.subplot(1, 2, 2)\n",
    "sns.barplot(x=mostplayed30_winloss, y=hero_mostplayed30.index)\n",
    "plt.title('W/L Ratios for Top 30 Most Played Heroes')\n",
    "plt.xlabel('W/L Ratio')"
   ]
  },
  {
   "cell_type": "markdown",
   "id": "007133c6",
   "metadata": {},
   "source": [
    "My top 6 played heroes are Snapfire, Chaos Knight, Hoodwink, Riki, Huskar and Drow Ranger. I've played each of these heroes over 20 times but obviously Snapfire (75+ games) is my most played and favorite hero."
   ]
  },
  {
   "cell_type": "code",
   "execution_count": 32,
   "id": "f30f9b2d",
   "metadata": {},
   "outputs": [
    {
     "name": "stdout",
     "output_type": "stream",
     "text": [
      "Top 6 W/L Ratios\n",
      "----------------\n",
      "Snapfire 0.684\n",
      "Chaos Knight 0.581\n",
      "Hoodwink 0.565\n",
      "Riki 0.571\n",
      "Huskar 0.632\n",
      "Drow Ranger 0.556\n"
     ]
    }
   ],
   "source": [
    "print('Top 6 W/L Ratios')\n",
    "print('----------------')\n",
    "for hero in mostplayed30_winloss.index[:6]:\n",
    "    print(hero, round(mostplayed30_winloss[hero],3))"
   ]
  },
  {
   "cell_type": "markdown",
   "id": "82f80b34",
   "metadata": {},
   "source": [
    "<ul>\n",
    "    <li>This group of heroes do not share many roles (carries, supports, and a mid).</li>\n",
    "    <li>Despite being played over 75 games, Snapfire has my highest W/L ratios at 0.685; I'm more likely to win games playing as this hero. Huskar is a close second having a W/L ratio of 0.632.</li>\n",
    "    <li>Of my 30 most played heroes, Kunkka blows everyone else's W/L ratios out of the water, scoring a whopping 1.0. This is roughly 30% higher than the highest ratio in my top 6 heroes! However, given how much less I've played Kunkka compared to any of these heroes, it's unlikely that I'm really much more likely to win with Kunkka. I would imagine that playing more games would bring his W/L closer to those in the top 6.</li>\n",
    "</ul>"
   ]
  },
  {
   "cell_type": "markdown",
   "id": "297e2d46",
   "metadata": {},
   "source": [
    "Next, let's take a look at the KDR and KDA ratios of the top 30. For this portion of the Hero Analysis, I'm going to focus on the median values for these variables. In the numerical distributions section of the analysis, the boxplots showed a lot of upper-end outliers for kills and assists. I'm interested in the typical KDA and KDR performances for my top 30 heroes across the many games I've played, so using the median instead of the mean will give me numbers that are more resistant to those outlier matches."
   ]
  },
  {
   "cell_type": "code",
   "execution_count": 33,
   "id": "e58e8cb8",
   "metadata": {},
   "outputs": [],
   "source": [
    "mostplayed30_kdr = data.groupby('hero')['kdr'].median()[hero_mostplayed30.index]\n",
    "mostplayed30_kda = data.groupby('hero')['kda'].median()[hero_mostplayed30.index]"
   ]
  },
  {
   "cell_type": "code",
   "execution_count": 34,
   "id": "6849b4ea",
   "metadata": {},
   "outputs": [
    {
     "data": {
      "text/plain": [
       "Text(0.5, 0, 'KDA')"
      ]
     },
     "execution_count": 34,
     "metadata": {},
     "output_type": "execute_result"
    },
    {
     "data": {
      "image/png": "[encoded data removed]",
      "text/plain": [
       "<Figure size 1296x576 with 2 Axes>"
      ]
     },
     "metadata": {
      "needs_background": "light"
     },
     "output_type": "display_data"
    }
   ],
   "source": [
    "plt.figure(figsize=(18,8))\n",
    "\n",
    "plt.subplot(1, 2, 1)\n",
    "sns.barplot(x=mostplayed30_kdr, y=hero_mostplayed30.index)\n",
    "plt.title('Kill Death Ratios for Top 30 Most Played Heroes')\n",
    "plt.xlabel('KDR')\n",
    "\n",
    "plt.subplot(1, 2, 2)\n",
    "sns.barplot(x=mostplayed30_kda, y=hero_mostplayed30.index)\n",
    "plt.title('KDA Ratios for Top 30 Most Played Heroes')\n",
    "plt.xlabel('KDA')"
   ]
  },
  {
   "cell_type": "markdown",
   "id": "f8d34017",
   "metadata": {},
   "source": [
    "My games with Medusa and Kunkka really skew the data here. I'd consider anything over 1:1 KDR or 3:1 KDA quite acceptable, especially as I mostly play support roles."
   ]
  },
  {
   "cell_type": "code",
   "execution_count": 70,
   "id": "63185d73",
   "metadata": {},
   "outputs": [
    {
     "name": "stdout",
     "output_type": "stream",
     "text": [
      "Medusa KDA: 14.0\n",
      "Kunkka KDA: 10.166666666666668\n"
     ]
    }
   ],
   "source": [
    "print('Medusa KDA:', mostplayed30_kda['Medusa'])\n",
    "print('Kunkka KDA:', mostplayed30_kda['Kunkka'])"
   ]
  },
  {
   "cell_type": "markdown",
   "id": "16055e47",
   "metadata": {},
   "source": [
    "Large differences between heroes' KDRs and KDAs can provide evidence about their general playstyles. For example, Beastmaster uses a lot of auras and minions to help make his whole team stronger but doesn't necessarily do a lot of damage himself for the final blows - leaving him with a higher KDA than KDR. Again, I cannot really explain the Medusa numbers as she is mostly a team fight hero and generally  I must have had some really good games."
   ]
  },
  {
   "cell_type": "markdown",
   "id": "913454e1",
   "metadata": {},
   "source": [
    "Let's not get too hung up on the positives - which heroes in the top 30 do I die the most as? In DotA, the term used for excessively dying is \"feeding\", as with each death you help the enemy team grow stronger with gold and experience points. You don't want to be a feeder."
   ]
  },
  {
   "cell_type": "code",
   "execution_count": 36,
   "id": "13b862fb",
   "metadata": {},
   "outputs": [
    {
     "data": {
      "text/plain": [
       "Text(0.5, 0, 'Avg. Number of Deaths per Match')"
      ]
     },
     "execution_count": 36,
     "metadata": {},
     "output_type": "execute_result"
    },
    {
     "data": {
      "image/png": "[encoded data removed]",
      "text/plain": [
       "<Figure size 1296x576 with 1 Axes>"
      ]
     },
     "metadata": {
      "needs_background": "light"
     },
     "output_type": "display_data"
    }
   ],
   "source": [
    "mostplayed30_deaths = data.groupby('hero')['deaths'].median()[hero_mostplayed30.index]\n",
    "\n",
    "plt.figure(figsize=(18,8))\n",
    "sns.barplot(x=mostplayed30_deaths, y=hero_mostplayed30.index)\n",
    "plt.title('Average Number of Deaths for the Top 30 Most Played Heroes')\n",
    "plt.xlabel('Avg. Number of Deaths per Match')"
   ]
  },
  {
   "cell_type": "markdown",
   "id": "38fe0b0a",
   "metadata": {},
   "source": [
    "The ceiling (max value) for median deaths is around 12 per match, while the floor (min value) is 2. MOST of my heros fall at or below 7 deaths a match. Unsuprisingly, Medusa and Kunkka are the ones with the least amount of deaths.\n",
    "\n",
    "Two of my most-played heroes with medians of 10-12 deaths are Crystal Maiden and Disruptor. Both of these intelligence heroes are typically played as supports, which can help explain the high death counts. Supports (should) prioritize helping the team grow stronger rather than growing stronger themselves, and as a result tend to be underleveled and underpowered as the game progresses. This makes them easy targets for enemy carries, where in teamfights they generally aim to pick off the easy kills before ganging up on tougher heroes to bring down."
   ]
  },
  {
   "cell_type": "markdown",
   "id": "0b7ce8fe",
   "metadata": {},
   "source": [
    "The correlation matrix earlier showed a moderate negative correlation between deaths and result. This correlation can be evidenced by looking at the W/L ratios of my highest feeding heroes:"
   ]
  },
  {
   "cell_type": "code",
   "execution_count": 75,
   "id": "cf723daa",
   "metadata": {},
   "outputs": [
    {
     "name": "stdout",
     "output_type": "stream",
     "text": [
      "Lina \t\tMed. # Deaths: 8.0 \tW/L Ratio: 0.5 \t <---- Bad!\n",
      "Witch Doctor \tMed. # Deaths: 9.0 \tW/L Ratio: 0.538 \t <---- Good!\n",
      "Death Prophet \tMed. # Deaths: 8.5 \tW/L Ratio: 0.375 \t <---- Bad!\n",
      "Disruptor \tMed. # Deaths: 10.0 \tW/L Ratio: 0.429 \t <---- Bad!\n",
      "Warlock \tMed. # Deaths: 9.5 \tW/L Ratio: 0.333 \t <---- Bad!\n",
      "Riki \t\tMed. # Deaths: 7.0 \tW/L Ratio: 0.571 \t <---- Good!\n",
      "Hoodwink \tMed. # Deaths: 7.0 \tW/L Ratio: 0.565 \t <---- Good!\n",
      "Mirana \t\tMed. # Deaths: 7.0 \tW/L Ratio: 0.571 \t <---- Good!\n"
     ]
    }
   ],
   "source": [
    "dead_guys = ['Lina', 'Witch Doctor', 'Death Prophet', 'Disruptor', 'Warlock', 'Riki', 'Hoodwink', 'Mirana']\n",
    "good_or_bad_wl = ['<---- Good!' if mostplayed30_winloss[hero] > 0.5 else '<---- Bad!' for hero in dead_guys]\n",
    "for ix, hero in enumerate(dead_guys):\n",
    "    if len(hero) < 7:\n",
    "        print(hero, '\\t\\tMed. # Deaths:', round(mostplayed30_deaths[hero],3),\n",
    "              '\\tW/L Ratio:', round(mostplayed30_winloss[hero],3), '\\t', good_or_bad_wl[ix])\n",
    "    elif len(hero) > 16:\n",
    "         print(hero, '\\tMed. # Deaths:', round(mostplayed30_deaths[hero],3),\n",
    "               '\\tW/L Ratio:', round(mostplayed30_winloss[hero],3), '\\t', good_or_bad_wl[ix])\n",
    "    else:\n",
    "        print(hero, '\\tMed. # Deaths:', round(mostplayed30_deaths[hero],3),\n",
    "              '\\tW/L Ratio:', round(mostplayed30_winloss[hero],3), '\\t', good_or_bad_wl[ix])"
   ]
  },
  {
   "cell_type": "markdown",
   "id": "6802ebf4",
   "metadata": {},
   "source": [
    "Of the heros I chose I'm at about 50% Good and 50% Bad. \n",
    "\n",
    "Warlock appears to be my weakest hero of the group with an abysmal 0.333 W/L Ratio and median 9.5 Deaths per game. I guess I need to either work on my play with him or just stop playing him altogether.\n",
    "\n",
    "Another interesting hero is Witch Doctor - with a median 9 Deaths per game but a positive W/L Ratio of 0.538 - sometimes you just feed."
   ]
  },
  {
   "cell_type": "code",
   "execution_count": 38,
   "id": "25eb2a0b",
   "metadata": {},
   "outputs": [],
   "source": [
    "import scipy.stats as stats"
   ]
  },
  {
   "cell_type": "code",
   "execution_count": 39,
   "id": "15e91f9b",
   "metadata": {},
   "outputs": [
    {
     "name": "stdout",
     "output_type": "stream",
     "text": [
      "Riki's average assists: 29.761904761904763 Standard Deviation: 8.170240783913298\n",
      "Death Prophet's average assists: 17.0 Standard Deviation: 8.689073598491383\n",
      "Average assists across hero pool: 14.357594145891943 Standard Deviation: 6.283205744720406\n"
     ]
    },
    {
     "data": {
      "text/plain": [
       "Text(0.5, 1.0, \"Riki and Death Prophet's Assists\")"
      ]
     },
     "execution_count": 39,
     "metadata": {},
     "output_type": "execute_result"
    },
    {
     "data": {
      "image/png": "[encoded data removed]",
      "text/plain": [
       "<Figure size 1296x576 with 1 Axes>"
      ]
     },
     "metadata": {
      "needs_background": "light"
     },
     "output_type": "display_data"
    }
   ],
   "source": [
    "riki_sorted = sorted(data[data['hero'] == 'Riki']['assists'])\n",
    "riki_mean = np.mean(riki_sorted)\n",
    "riki_std = np.std(riki_sorted)\n",
    "\n",
    "dp_sorted = sorted(data[data['hero'] == 'Death Prophet']['assists'])\n",
    "dp_mean = np.mean(dp_sorted)\n",
    "dp_std = np.std(dp_sorted)\n",
    "\n",
    "pool_mean = data.groupby('hero')['assists'].mean().mean()\n",
    "pool_std = data.groupby('hero')['assists'].std().mean()\n",
    "\n",
    "min_assists = data['assists'].min()\n",
    "max_assists = data['assists'].max()\n",
    "assist_space = np.linspace(min_assists, max_assists)\n",
    "\n",
    "print(\"Riki's average assists:\", riki_mean, 'Standard Deviation:', riki_std) \n",
    "print(\"Death Prophet's average assists:\", dp_mean, 'Standard Deviation:', dp_std)\n",
    "print(\"Average assists across hero pool:\", pool_mean, 'Standard Deviation:', pool_std)\n",
    "\n",
    "plt.figure(figsize=(18,8))\n",
    "plt.plot(riki_sorted, stats.norm.pdf(riki_sorted, riki_mean, riki_std), 'go-', label='Riki [Dist.]')\n",
    "plt.hist(riki_sorted, bins=40, alpha=0.5, color='g', density=True, label='Riki [Hist.]')\n",
    "plt.plot(dp_sorted, stats.norm.pdf(dp_sorted, dp_mean, dp_std), 'ro-', label='Death Prophet [Dist.]')\n",
    "plt.hist(dp_sorted, bins=40, alpha=0.5, color='r', density=True, label='Death Prophet [Hist.]')\n",
    "plt.plot(assist_space, stats.norm.pdf(assist_space, pool_mean, pool_std), 'bo-', label='Hero Pool [Dist.]')\n",
    "\n",
    "plt.ylabel('Probability Density Function')\n",
    "plt.xlabel('Assists per match')\n",
    "plt.legend(fontsize='large')\n",
    "plt.title(\"Riki and Death Prophet's Assists\")"
   ]
  },
  {
   "cell_type": "markdown",
   "id": "ffd1d1f3",
   "metadata": {},
   "source": [
    "In the above histograms of Riki and Death Prophet's assists per match, we can see that Death Prophet's skews more than Riki's towards the lower end of the sample space. By fitting Riki, Death Prophet, and the entire hero pool's average assists to normal distributions, we get a decent approximation of how assists for the heroes are distributed. Death Prophets' distribution curve is closely in line with the rest of the hero pool, while Riki's is shifted more to the right. Centered around an average of ~30 assists per game, this shows that there's a greater chance of Riki having a high amount of assists per match (see the margin between Riki's distribution curve and the others around 15 assists).\n",
    "\n",
    "In conclusion, if you're going to feed - atleast try to be useful to your team before you die!"
   ]
  },
  {
   "cell_type": "markdown",
   "id": "1f00634a",
   "metadata": {},
   "source": [
    "<h1>Primary Attribute</h1>\n",
    "Heroes come in four flavours: Agility, Intelligence, Strength and Universal(referred to as \"all\"). Everytime heroes level up, they are rewarded with a set number of attribute points.\n",
    "<ul>\n",
    "    <li>Agility points increase a hero's attack speed and armor</li>\n",
    "    <li>Strength points increase a hero's overall health points and health regeneration rate</li>\n",
    "    <li>Intelligence points increase a hero's overall mana points and mana regeneration rate</li>\n",
    "    <li>Universal is a combination of the three previous and simply means a hero is not specifically any of the three alone</li>\n",
    "<ul>"
   ]
  },
  {
   "cell_type": "markdown",
   "id": "f00e23e1",
   "metadata": {},
   "source": [
    "For heroes of a particular attribute, points in that attribute (either gained through leveling up or items) also increase the amount of damage they do each attack. Generally speaking, Agility heroes are carries, as their role is to deal massive amounts of damage through attacks. Strength heroes are the tanky durable heroes, often playing the role of initiator in fights - soak up as much damage as possible and force enemies to focus on you while your team does its thing. Intelligence heroes are typically supports, with nuking (i.e. burst damage) or disabling abilities. They want to fire off as many of their spells as possible and control the fight. This is the template most heroes follow, but there are plenty of exceptions and offshoots as well (e.g. Intelligence-based carry heroes).\n",
    "\n",
    "Let's look at which primary attributes I played the most, as well as their W/L, KDR, and KDA ratios."
   ]
  },
  {
   "cell_type": "code",
   "execution_count": 40,
   "id": "688e9ce6",
   "metadata": {},
   "outputs": [
    {
     "name": "stderr",
     "output_type": "stream",
     "text": [
      "/opt/anaconda3/lib/python3.8/site-packages/seaborn/_decorators.py:36: FutureWarning: Pass the following variables as keyword args: x, y. From version 0.12, the only valid positional argument will be `data`, and passing other arguments without an explicit keyword will result in an error or misinterpretation.\n",
      "  warnings.warn(\n",
      "/opt/anaconda3/lib/python3.8/site-packages/seaborn/_decorators.py:36: FutureWarning: Pass the following variables as keyword args: x, y. From version 0.12, the only valid positional argument will be `data`, and passing other arguments without an explicit keyword will result in an error or misinterpretation.\n",
      "  warnings.warn(\n",
      "/opt/anaconda3/lib/python3.8/site-packages/seaborn/_decorators.py:36: FutureWarning: Pass the following variables as keyword args: x, y. From version 0.12, the only valid positional argument will be `data`, and passing other arguments without an explicit keyword will result in an error or misinterpretation.\n",
      "  warnings.warn(\n"
     ]
    },
    {
     "data": {
      "text/plain": [
       "Text(0.5, 1.0, 'KDA')"
      ]
     },
     "execution_count": 40,
     "metadata": {},
     "output_type": "execute_result"
    },
    {
     "data": {
      "image/png": "[encoded data removed]",
      "text/plain": [
       "<Figure size 1296x864 with 4 Axes>"
      ]
     },
     "metadata": {
      "needs_background": "light"
     },
     "output_type": "display_data"
    }
   ],
   "source": [
    "primary_attr = data['primary_attr'].value_counts().reindex(['agi', 'int', 'str', 'all'])\n",
    "attr_palette = ['green', 'blue', 'red', 'orange'] # agi, int, str, all colours\n",
    "\n",
    "plt.figure(figsize=(18,12))\n",
    "plt.subplot(2, 2, 1)\n",
    "sns.barplot(x=primary_attr.index, y=primary_attr/total_games, palette=attr_palette, saturation=0.5)\n",
    "plt.ylabel('Games Played')\n",
    "plt.title('Games Played')\n",
    "\n",
    "plt.subplot(2, 2, 2)\n",
    "primary_attr_wl = data.groupby('primary_attr')['result'].mean()\n",
    "sns.barplot(primary_attr_wl.index, primary_attr_wl, palette=attr_palette, saturation=0.5)\n",
    "plt.ylabel('W/L Ratio')\n",
    "plt.xlabel('')\n",
    "plt.title('W/L Ratio')\n",
    "\n",
    "plt.subplot(2, 2, 3)\n",
    "primary_attr_kdr = data.groupby('primary_attr')['kdr'].mean()\n",
    "sns.barplot(primary_attr_kdr.index, primary_attr_kdr, palette=attr_palette, saturation=0.5)\n",
    "plt.ylabel('KDR')\n",
    "plt.xlabel('')\n",
    "plt.title('KDR')\n",
    "\n",
    "plt.subplot(2, 2, 4)\n",
    "primary_attr_kda = data.groupby('primary_attr')['kda'].mean()\n",
    "sns.barplot(primary_attr_kda.index, primary_attr_kda, palette=attr_palette, saturation=0.5)\n",
    "plt.ylabel('KDA')\n",
    "plt.xlabel('')\n",
    "plt.title('KDA')"
   ]
  },
  {
   "cell_type": "code",
   "execution_count": 41,
   "id": "2671aba8",
   "metadata": {
    "scrolled": true
   },
   "outputs": [
    {
     "name": "stdout",
     "output_type": "stream",
     "text": [
      "primary_attr\n",
      "agi    0.547771\n",
      "all    0.582278\n",
      "int    0.423077\n",
      "str    0.500000\n",
      "Name: result, dtype: float64\n",
      "primary_attr\n",
      "agi    2.249774\n",
      "all    1.486962\n",
      "int    1.056054\n",
      "str    2.195896\n",
      "Name: kdr, dtype: float64\n",
      "primary_attr\n",
      "agi    5.766348\n",
      "all    5.547476\n",
      "int    3.628663\n",
      "str    5.338740\n",
      "Name: kda, dtype: float64\n"
     ]
    }
   ],
   "source": [
    "print(primary_attr_wl)\n",
    "print(primary_attr_kdr)\n",
    "print(primary_attr_kda)\n",
    "# more closely examine"
   ]
  },
  {
   "cell_type": "markdown",
   "id": "21f2ea3a",
   "metadata": {},
   "source": [
    "<ul>\n",
    "    <li>Majority of my games were as either Agility or Universal heroes, with strength and intelligence following up with 24% and 19% respectively. The difference between intelligence and the other attributes shows a pretty clear bias against it (and perhaps supporting?).</li>\n",
    "    <li>W/L ratios between attributes favors Universal at 0.58. Intelligence takes a dip at 0.42.</li>\n",
    "    <li>Agility appears to be the winner for KDR, with an average ratio around 2.24 This can be explained by the generalization that most agility heroes are carries which get more kills. Conversely, the average for support-focused intelligence heroes is just above neutral.</li>\n",
    "    <li>When taking assists into account with KDA, things even up considerably between the Agility, Strength and Universal attributes. Intelligence is still a clear last, but the distance between it, and the others is much less than KDR.</li>\n",
    "    <li>While it's easier to see that intelligence heroes perform less well in all categories, the disclaimer here is that I've also played them considerably less. The difference in W/L, KDR, and KDA is still enough to suggest that conclusion, but I would imagine that intelligence's ratios would improve given more attention and practice.</li>\n",
    "</ul>\n",
    "Before we move on, let's see what the overall distribution of primary attributes is in the total hero pool:"
   ]
  },
  {
   "cell_type": "code",
   "execution_count": 42,
   "id": "e98349c2",
   "metadata": {},
   "outputs": [
    {
     "name": "stderr",
     "output_type": "stream",
     "text": [
      "/opt/anaconda3/lib/python3.8/site-packages/seaborn/_decorators.py:36: FutureWarning: Pass the following variables as keyword args: x, y. From version 0.12, the only valid positional argument will be `data`, and passing other arguments without an explicit keyword will result in an error or misinterpretation.\n",
      "  warnings.warn(\n"
     ]
    },
    {
     "data": {
      "text/plain": [
       "Text(0.5, 1.0, 'Distribution of Primary Attributes across Total Hero Pool')"
      ]
     },
     "execution_count": 42,
     "metadata": {},
     "output_type": "execute_result"
    },
    {
     "data": {
      "image/png": "[encoded data removed]",
      "text/plain": [
       "<Figure size 1296x576 with 1 Axes>"
      ]
     },
     "metadata": {
      "needs_background": "light"
     },
     "output_type": "display_data"
    }
   ],
   "source": [
    "pool_primary_attr = hero_data['primary_attr'].value_counts().reindex(['agi', 'int', 'str', 'all'])\n",
    "plt.figure(figsize=(18,8))\n",
    "sns.barplot(pool_primary_attr.index, pool_primary_attr, palette=attr_palette, saturation=0.5)\n",
    "plt.ylabel('Number of Heroes')\n",
    "plt.xlabel('')\n",
    "plt.title('Distribution of Primary Attributes across Total Hero Pool')"
   ]
  },
  {
   "cell_type": "markdown",
   "id": "0fca781e",
   "metadata": {},
   "source": [
    "An even 31 heroes per attribute type."
   ]
  },
  {
   "cell_type": "code",
   "execution_count": 43,
   "id": "17ad3517",
   "metadata": {},
   "outputs": [],
   "source": [
    "## First, a nifty function to annotate barplots\n",
    "def annotate(horizontal=False):\n",
    "    ax = plt.gca()    \n",
    "    for p in ax.patches:\n",
    "        ax.text(p.get_x() + p.get_width()/2., p.get_height() + 5, '%d' % int(p.get_height()), \n",
    "            fontsize=12, ha='center', va='bottom')"
   ]
  },
  {
   "cell_type": "markdown",
   "id": "0f6e4603",
   "metadata": {},
   "source": [
    "<h1>Attack Type</h1>\n",
    "The two attack types, melee and ranged, are how heroes regularly attack enemy units. One slashes with claws, another throws fireballs, etc... There's even a hero that smacks people with tree branches, which is pretty fun."
   ]
  },
  {
   "cell_type": "code",
   "execution_count": 44,
   "id": "09dc1272",
   "metadata": {},
   "outputs": [
    {
     "name": "stderr",
     "output_type": "stream",
     "text": [
      "/opt/anaconda3/lib/python3.8/site-packages/seaborn/_decorators.py:36: FutureWarning: Pass the following variables as keyword args: x, y. From version 0.12, the only valid positional argument will be `data`, and passing other arguments without an explicit keyword will result in an error or misinterpretation.\n",
      "  warnings.warn(\n",
      "/opt/anaconda3/lib/python3.8/site-packages/seaborn/_decorators.py:36: FutureWarning: Pass the following variables as keyword args: x, y. From version 0.12, the only valid positional argument will be `data`, and passing other arguments without an explicit keyword will result in an error or misinterpretation.\n",
      "  warnings.warn(\n",
      "/opt/anaconda3/lib/python3.8/site-packages/seaborn/_decorators.py:36: FutureWarning: Pass the following variables as keyword args: x, y. From version 0.12, the only valid positional argument will be `data`, and passing other arguments without an explicit keyword will result in an error or misinterpretation.\n",
      "  warnings.warn(\n",
      "/opt/anaconda3/lib/python3.8/site-packages/seaborn/_decorators.py:36: FutureWarning: Pass the following variables as keyword args: x, y. From version 0.12, the only valid positional argument will be `data`, and passing other arguments without an explicit keyword will result in an error or misinterpretation.\n",
      "  warnings.warn(\n"
     ]
    },
    {
     "data": {
      "text/plain": [
       "Text(0.5, 1.0, 'KDA')"
      ]
     },
     "execution_count": 44,
     "metadata": {},
     "output_type": "execute_result"
    },
    {
     "data": {
      "image/png": "[encoded data removed]",
      "text/plain": [
       "<Figure size 1296x864 with 4 Axes>"
      ]
     },
     "metadata": {
      "needs_background": "light"
     },
     "output_type": "display_data"
    }
   ],
   "source": [
    "attack_type_total = data['attack_type'].value_counts()\n",
    "\n",
    "plt.figure(figsize=(18,12))\n",
    "plt.subplot(2,2,1)\n",
    "sns.barplot(attack_type_total.index, attack_type_total)\n",
    "plt.ylabel('Games Played')\n",
    "plt.title('Games Played')\n",
    "\n",
    "plt.subplot(2,2,2)\n",
    "attack_type_wl = data.groupby('attack_type')['result'].mean()\n",
    "sns.barplot(attack_type_wl.index, attack_type_wl)\n",
    "plt.ylabel('W/L Ratio')\n",
    "plt.xlabel('')\n",
    "plt.title('W/L Ratio')\n",
    "\n",
    "plt.subplot(2,2,3)\n",
    "attack_type_kdr = data.groupby('attack_type')['kdr'].mean()\n",
    "sns.barplot(attack_type_total.index, attack_type_kdr)\n",
    "plt.ylabel('KDR')\n",
    "plt.title('KDR')\n",
    "\n",
    "plt.subplot(2,2,4)\n",
    "attack_type_kda = data.groupby('attack_type')['kda'].mean()\n",
    "sns.barplot(attack_type_total.index, attack_type_kda)\n",
    "plt.ylabel('KDA')\n",
    "plt.title('KDA')"
   ]
  },
  {
   "cell_type": "code",
   "execution_count": 45,
   "id": "02a05cb7",
   "metadata": {},
   "outputs": [
    {
     "data": {
      "text/plain": [
       "attack_type\n",
       "Melee     0.494118\n",
       "Ranged    0.546667\n",
       "Name: result, dtype: float64"
      ]
     },
     "execution_count": 45,
     "metadata": {},
     "output_type": "execute_result"
    }
   ],
   "source": [
    "attack_type_wl"
   ]
  },
  {
   "cell_type": "markdown",
   "id": "49a4055f",
   "metadata": {},
   "source": [
    "<ul>\n",
    "    <li>Each statistic is higher with melee heroes than with ranged; I've played approximately 50 more games with ranged heroes, which suggests a moderate preference towards them.</li>\n",
    "    <li>Being melee or ranged has a small impact on match outcome; on average I tend to do win more more with ranged heroes and lose more with melee.\n",
    "    <li>This higher W/L correlates with the higher melee KDR and KDA ratios.</li>\n",
    "</ul>"
   ]
  },
  {
   "cell_type": "code",
   "execution_count": 46,
   "id": "6de8a585",
   "metadata": {},
   "outputs": [
    {
     "data": {
      "text/plain": [
       "Text(0.5, 1.0, 'Role Correlations')"
      ]
     },
     "execution_count": 46,
     "metadata": {},
     "output_type": "execute_result"
    },
    {
     "data": {
      "image/png": "[encoded data removed]",
      "text/plain": [
       "<Figure size 1296x576 with 2 Axes>"
      ]
     },
     "metadata": {
      "needs_background": "light"
     },
     "output_type": "display_data"
    }
   ],
   "source": [
    "role_ix = data.columns[16:23]\n",
    "role_corr = data[role_ix].corr()\n",
    "plt.figure(figsize=(18,8))\n",
    "sns.heatmap(role_corr, vmax=1, square=True, linewidth=.5, cmap=\"coolwarm\")\n",
    "plt.title('Role Correlations')"
   ]
  },
  {
   "cell_type": "markdown",
   "id": "4dc7eaee",
   "metadata": {},
   "source": [
    "<ul>\n",
    "    <li>There's a strong positive correlation between being an initiator and durable. This makes total sense, since almost every hero that's considered an initiator needs to be able to survive at least the initial response from enemy heros (if you know DotA, think Axe's Call, Tidehunter's Ravage, etc).</li>\n",
    "    <li>Being a carry has a number of moderate negative correlations with other roles: nuker, disabler, and support. This makes sense since carry heroes are primarily focused on dealing as much right-click (regular attack) damage as possible.</li>\n",
    "    <li>There's a moderate positive correlation with being a support and a nuker. Most heroes that support tend to have high magic damage spells (Lion's Finger of Death, Pugna's Netherblash, etc)</li>\n",
    "</ul>\n",
    "\n",
    "Let's now take a look at the percentage of games I've played in each role across all games, and and compare that with the distribution of each role in the total hero pool:"
   ]
  },
  {
   "cell_type": "code",
   "execution_count": 47,
   "id": "62db5108",
   "metadata": {},
   "outputs": [
    {
     "name": "stderr",
     "output_type": "stream",
     "text": [
      "/opt/anaconda3/lib/python3.8/site-packages/seaborn/_decorators.py:36: FutureWarning: Pass the following variables as keyword args: x, y. From version 0.12, the only valid positional argument will be `data`, and passing other arguments without an explicit keyword will result in an error or misinterpretation.\n",
      "  warnings.warn(\n",
      "/opt/anaconda3/lib/python3.8/site-packages/seaborn/_decorators.py:36: FutureWarning: Pass the following variables as keyword args: x, y. From version 0.12, the only valid positional argument will be `data`, and passing other arguments without an explicit keyword will result in an error or misinterpretation.\n",
      "  warnings.warn(\n"
     ]
    },
    {
     "data": {
      "text/plain": [
       "([<matplotlib.axis.YTick at 0x7fdb180b6a60>,\n",
       "  <matplotlib.axis.YTick at 0x7fdb1809ca00>,\n",
       "  <matplotlib.axis.YTick at 0x7fdb180d7670>,\n",
       "  <matplotlib.axis.YTick at 0x7fdb180d7e20>,\n",
       "  <matplotlib.axis.YTick at 0x7fdb1810f5e0>,\n",
       "  <matplotlib.axis.YTick at 0x7fdb1810faf0>,\n",
       "  <matplotlib.axis.YTick at 0x7fdb18118040>,\n",
       "  <matplotlib.axis.YTick at 0x7fdb18118550>,\n",
       "  <matplotlib.axis.YTick at 0x7fdb18118a60>,\n",
       "  <matplotlib.axis.YTick at 0x7fdb1810f730>],\n",
       " [Text(0, 0, ''),\n",
       "  Text(0, 0, ''),\n",
       "  Text(0, 0, ''),\n",
       "  Text(0, 0, ''),\n",
       "  Text(0, 0, ''),\n",
       "  Text(0, 0, ''),\n",
       "  Text(0, 0, ''),\n",
       "  Text(0, 0, ''),\n",
       "  Text(0, 0, ''),\n",
       "  Text(0, 0, '')])"
      ]
     },
     "execution_count": 47,
     "metadata": {},
     "output_type": "execute_result"
    },
    {
     "data": {
      "image/png": "[encoded data removed]",
      "text/plain": [
       "<Figure size 1296x576 with 2 Axes>"
      ]
     },
     "metadata": {
      "needs_background": "light"
     },
     "output_type": "display_data"
    }
   ],
   "source": [
    "role_pct = []\n",
    "for i in role_ix:\n",
    "    role_pct.append((len(data[data[i] == 1]) / total_games))\n",
    "\n",
    "plt.figure(figsize=(18,8))\n",
    "plt.subplot(1,2,1)\n",
    "sns.barplot(role_ix, role_pct)\n",
    "plt.title('Percentage of Total Games Played in each Role')\n",
    "plt.ylabel('% Games Played', fontsize='large')\n",
    "plt.yticks(np.arange(0.0, 1, 0.1))\n",
    "\n",
    "role_dist_pct = hero_data[role_ix].sum() / total_hero_pool\n",
    "plt.subplot(1,2,2)\n",
    "sns.barplot(role_ix, role_dist_pct)\n",
    "plt.title('Distribution of Roles in Entire Hero Pool')\n",
    "plt.ylabel('% of Heroes', fontsize='large')\n",
    "plt.yticks(np.arange(0.0, 1, 0.1))"
   ]
  },
  {
   "cell_type": "code",
   "execution_count": 48,
   "id": "d1c648cf",
   "metadata": {},
   "outputs": [
    {
     "name": "stdout",
     "output_type": "stream",
     "text": [
      "Deltas between roles played and role distribution:\n"
     ]
    },
    {
     "data": {
      "text/plain": [
       "[('carry', -0.01222028480092996),\n",
       " ('pusher', -0.03747457134553908),\n",
       " ('nuker', -0.05922696890438828),\n",
       " ('disabler', 0.09049694856146473),\n",
       " ('initiator', -0.05075559430398141),\n",
       " ('durable', -0.022188317349607634),\n",
       " ('support', 0.07407730310956118)]"
      ]
     },
     "execution_count": 48,
     "metadata": {},
     "output_type": "execute_result"
    }
   ],
   "source": [
    "role_differences = np.array(role_pct) - np.array(role_dist_pct)\n",
    "print('Deltas between roles played and role distribution:')\n",
    "list(zip(role_ix, (role_differences)))"
   ]
  },
  {
   "cell_type": "markdown",
   "id": "49496a8a",
   "metadata": {},
   "source": [
    "<ul>\n",
    "    <li>The distribution of roles I played generally resembles the overall hero pool's distribution; this suggests that I often played heroes that fit within the most frequent roles (nuker, disabler, carry).</li>\n",
    "    <li>Surprisingly my Percentage of Total Games Played in each Role correlates with the Distribution of Roles in Entire Hero Pool with slight variances.</li>\n",
    "    <li>I played disabling heroes in almost 80% of all my games; with it having the highest delta. The combination of these roles most-played indicate a clear preference leaning towards powerful teamfighting heroes and less towards supportive initiators.</li>\n",
    "\n",
    "Next, let's look at W/L, KDR, and KDA for each role:"
   ]
  },
  {
   "cell_type": "code",
   "execution_count": 49,
   "id": "13447a95",
   "metadata": {},
   "outputs": [],
   "source": [
    "role_wl = []\n",
    "role_kdr = []\n",
    "role_kda = []\n",
    "for i in role_ix:\n",
    "    role_group = data.groupby(i).mean()\n",
    "    role_wl.append(role_group['result'][1])\n",
    "    role_kdr.append(role_group['kdr'][1])\n",
    "    role_kda.append(role_group['kda'][1])"
   ]
  },
  {
   "cell_type": "code",
   "execution_count": 50,
   "id": "774d18a5",
   "metadata": {
    "scrolled": false
   },
   "outputs": [
    {
     "name": "stderr",
     "output_type": "stream",
     "text": [
      "/opt/anaconda3/lib/python3.8/site-packages/seaborn/_decorators.py:36: FutureWarning: Pass the following variables as keyword args: x, y. From version 0.12, the only valid positional argument will be `data`, and passing other arguments without an explicit keyword will result in an error or misinterpretation.\n",
      "  warnings.warn(\n"
     ]
    },
    {
     "data": {
      "text/plain": [
       "Text(0, 0.5, 'W/L')"
      ]
     },
     "execution_count": 50,
     "metadata": {},
     "output_type": "execute_result"
    },
    {
     "data": {
      "image/png": "[encoded data removed]",
      "text/plain": [
       "<Figure size 1296x576 with 1 Axes>"
      ]
     },
     "metadata": {
      "needs_background": "light"
     },
     "output_type": "display_data"
    }
   ],
   "source": [
    "plt.figure(figsize=(18,8))\n",
    "sns.barplot(role_ix, role_wl)\n",
    "plt.ylim((0.4, 0.55))\n",
    "plt.title('Win Loss Ratio by Role')\n",
    "plt.ylabel('W/L', rotation='horizontal', horizontalalignment='right', fontsize='large')"
   ]
  },
  {
   "cell_type": "code",
   "execution_count": 51,
   "id": "57010472",
   "metadata": {},
   "outputs": [
    {
     "data": {
      "text/plain": [
       "[('carry', 0.5241157556270096),\n",
       " ('pusher', 0.4954128440366973),\n",
       " ('nuker', 0.5263157894736842),\n",
       " ('disabler', 0.525974025974026),\n",
       " ('initiator', 0.5137614678899083),\n",
       " ('durable', 0.5024154589371981),\n",
       " ('support', 0.5506072874493927)]"
      ]
     },
     "execution_count": 51,
     "metadata": {},
     "output_type": "execute_result"
    }
   ],
   "source": [
    "list((zip(role_ix, role_wl)))"
   ]
  },
  {
   "cell_type": "markdown",
   "id": "4f67e314",
   "metadata": {},
   "source": [
    "It seems that Support in particular gives me an increased chance of winning, with carry, disabler, nuker, and durable all sitting at my average W/L ratio of ~0.52.\n",
    "\n",
    "Pusher has about a -3% decrease from the average, suggesting that I'm slightly more likely to lose playing this role."
   ]
  },
  {
   "cell_type": "code",
   "execution_count": 52,
   "id": "ce3adb05",
   "metadata": {},
   "outputs": [
    {
     "name": "stderr",
     "output_type": "stream",
     "text": [
      "/opt/anaconda3/lib/python3.8/site-packages/seaborn/_decorators.py:36: FutureWarning: Pass the following variables as keyword args: x, y. From version 0.12, the only valid positional argument will be `data`, and passing other arguments without an explicit keyword will result in an error or misinterpretation.\n",
      "  warnings.warn(\n",
      "/opt/anaconda3/lib/python3.8/site-packages/seaborn/_decorators.py:36: FutureWarning: Pass the following variables as keyword args: x, y. From version 0.12, the only valid positional argument will be `data`, and passing other arguments without an explicit keyword will result in an error or misinterpretation.\n",
      "  warnings.warn(\n"
     ]
    },
    {
     "data": {
      "text/plain": [
       "Text(0.5, 1.0, 'KDA by Role')"
      ]
     },
     "execution_count": 52,
     "metadata": {},
     "output_type": "execute_result"
    },
    {
     "data": {
      "image/png": "[encoded data removed]",
      "text/plain": [
       "<Figure size 1440x576 with 2 Axes>"
      ]
     },
     "metadata": {
      "needs_background": "light"
     },
     "output_type": "display_data"
    }
   ],
   "source": [
    "plt.figure(figsize=(20,8))\n",
    "plt.subplot(1,2,1)\n",
    "sns.barplot(role_ix, role_kdr)\n",
    "plt.ylabel('KDR', rotation='horizontal', horizontalalignment='right', fontsize='large')\n",
    "plt.title('KDR by Role')\n",
    "\n",
    "plt.subplot(1,2,2)\n",
    "sns.barplot(role_ix, role_kda)\n",
    "plt.ylabel('KDA', rotation='horizontal', horizontalalignment='right', fontsize='large')\n",
    "plt.title('KDA by Role')"
   ]
  },
  {
   "cell_type": "markdown",
   "id": "888e5025",
   "metadata": {},
   "source": [
    "<ul>\n",
    "    <li>Looking at KDR, pusher has a slight lead between itself and the other roles. Which is surprising considering I am slightly inclined to lose the game with a pusher role.</li>\n",
    "    <li>KDA closes the distance between pusher and the other roles, as the inclusion of assists account for many of the key functions that teamfighting disablers, initiators, and supports play.</li>\n",
    "    <li>Looking at the W/L, KDR, and KDA ratios together, it seems the best combination of roles to maximize my chances of winning is picking support heroes with the ability to disable in teamfights.</li>\n",
    "</ul>"
   ]
  },
  {
   "cell_type": "markdown",
   "id": "6f9c556f",
   "metadata": {},
   "source": [
    "<h1>Time</h1>\n",
    "DotA sucks away time like a black hole does to light - once you pass the event horizon, there is no escape from the void. The general relativity of each match causes time to slow to a crawl, especially when its a bad one. Yet time on the outside flows naturally... Minutes turn into hours, hours turn into days, and next thing you know you're 555 games deep and you carry with you the soul of a jaded old man.\n",
    "\n",
    "All that being said, let's look at how my W/L ratio varies over particular lengths of time, starting with match duration:"
   ]
  },
  {
   "cell_type": "code",
   "execution_count": 53,
   "id": "1b284598",
   "metadata": {},
   "outputs": [
    {
     "data": {
      "text/plain": [
       "<matplotlib.legend.Legend at 0x7fdb188aef40>"
      ]
     },
     "execution_count": 53,
     "metadata": {},
     "output_type": "execute_result"
    },
    {
     "data": {
      "image/png": "[encoded data removed]",
      "text/plain": [
       "<Figure size 1296x576 with 1 Axes>"
      ]
     },
     "metadata": {
      "needs_background": "light"
     },
     "output_type": "display_data"
    }
   ],
   "source": [
    "## Win/Loss by duration\n",
    "#histogram\n",
    "plt.figure(figsize=(18,8))\n",
    "plt.hist([data['duration'].loc[data['result'] == 1],\n",
    "        data['duration'].loc[data['result'] != 1]], stacked=False,\n",
    "        bins=30, label=['Win', 'Loss'], density=True)\n",
    "# gauss. curve\n",
    "duration_space = np.linspace(0, data['duration'].max())\n",
    "plt.plot(duration_space, stats.norm.pdf(duration_space, data['duration'].mean(),\n",
    "                                        data['duration'].std()), '--')\n",
    "plt.title('% of Wins and Losses by Duration')\n",
    "plt.xlabel('Duration')\n",
    "plt.ylabel('# of Games')\n",
    "plt.legend(fontsize='large')"
   ]
  },
  {
   "cell_type": "code",
   "execution_count": 54,
   "id": "b9a74cad",
   "metadata": {},
   "outputs": [
    {
     "data": {
      "text/plain": [
       "<matplotlib.legend.Legend at 0x7fdb18e12bb0>"
      ]
     },
     "execution_count": 54,
     "metadata": {},
     "output_type": "execute_result"
    },
    {
     "data": {
      "image/png": "[encoded data removed]",
      "text/plain": [
       "<Figure size 1296x576 with 1 Axes>"
      ]
     },
     "metadata": {
      "needs_background": "light"
     },
     "output_type": "display_data"
    }
   ],
   "source": [
    "plt.figure(figsize=(18,8))\n",
    "duration_wl = data.groupby('duration')['result'].mean()\n",
    "duration_linspace = np.linspace(data['duration'].min(), data['duration'].max(), num=len(duration_wl))\n",
    "plt.plot(duration_linspace, duration_wl, label='W/L Ratio')\n",
    "plt.plot(duration_linspace, [0.5 for i in duration_linspace], 'r--', label='0.5 W/L')\n",
    "\n",
    "plt.title('W/L Ratio by Duration')\n",
    "plt.xlabel('Duration')\n",
    "plt.ylabel('W/L Ratio')\n",
    "plt.legend(fontsize='large')"
   ]
  },
  {
   "cell_type": "markdown",
   "id": "cc4e5548",
   "metadata": {},
   "source": [
    "Game duration fits a beautiful normal distribution around the average length of 42 minutes.\n",
    "\n",
    "Looking at W/L ratio, you can see that it really fluctuates around the extremeties of duration (less than 20 mins and more than 70) because only a small number of games are ever that short or long. It seems that I'm more likely to lose shorter games between 20 and 30 minutes long, whereas my best window for success seems to between 35 to 50 minutes. Intuitively this makes total sense to me; in most games where I played as a carry, it took about 30 minutes to \"come online\", i.e. get powerful enough to start taking over the game. If the other team was able to push fast enough and force a win before or just at that point in time, the carry often wasn't powerful enough to really help the team stop their advance. But between 40 minutes to an hour, the carry has enough items and momentum to take over the game and go for the win.\n",
    "\n",
    "Games over an hour long can be tricky, because past that point in time the outcome entirely comes down to team coordination and winning pivotal fights. By this late in the game most carries are max level and have their entire item builds, meaning how the team plays around them is essential to win.\n",
    "\n",
    "I like the W/L ratio plot, because it really reflects how priorities and strategy change in DotA during different phases of the game. Now, let's take a look at my favourite (and most damning) visualization in this whole analysis: games played and W/L ratio distributed over 24 hours."
   ]
  },
  {
   "cell_type": "code",
   "execution_count": 55,
   "id": "7c3c3098",
   "metadata": {},
   "outputs": [],
   "source": [
    "hourly_wl = data.groupby('hour')['result'].mean()/10 # divided by 10 so its scales visually with my histogram"
   ]
  },
  {
   "cell_type": "code",
   "execution_count": 56,
   "id": "75b242db",
   "metadata": {},
   "outputs": [
    {
     "data": {
      "text/plain": [
       "count    17.000000\n",
       "mean      0.054014\n",
       "std       0.020800\n",
       "min       0.000000\n",
       "25%       0.047619\n",
       "50%       0.053333\n",
       "75%       0.061905\n",
       "max       0.100000\n",
       "Name: result, dtype: float64"
      ]
     },
     "execution_count": 56,
     "metadata": {},
     "output_type": "execute_result"
    }
   ],
   "source": [
    "hourly_wl.describe()"
   ]
  },
  {
   "cell_type": "code",
   "execution_count": 57,
   "id": "4b70bebe",
   "metadata": {},
   "outputs": [
    {
     "data": {
      "text/plain": [
       "Text(0.5, 1.0, 'Games Played over 24 Hours')"
      ]
     },
     "execution_count": 57,
     "metadata": {},
     "output_type": "execute_result"
    },
    {
     "data": {
      "image/png": "[encoded data removed]",
      "text/plain": [
       "<Figure size 1296x576 with 1 Axes>"
      ]
     },
     "metadata": {
      "needs_background": "light"
     },
     "output_type": "display_data"
    }
   ],
   "source": [
    "### Hourly games and W/L\n",
    "\n",
    "plt.figure(figsize=(18,8))\n",
    "plt.hist([data['hour'].loc[data['result'] == 1],\n",
    "        data['hour'].loc[data['result'] != 1]], stacked=False,\n",
    "        bins=24, label=['Win', 'Loss'], density=False)\n",
    "plt.xlabel('Hour Played')\n",
    "plt.xticks(range(24))\n",
    "plt.ylabel('# of Games')\n",
    "plt.legend(fontsize='large')\n",
    "plt.title('Games Played over 24 Hours')"
   ]
  },
  {
   "cell_type": "markdown",
   "id": "b082d186",
   "metadata": {},
   "source": [
    "First of all, I'm not a complete degenerate so I do not have any games played between the hours of 2-8AM. It appears that the majority of my games are between 5-11PM. \n",
    "\n",
    "Because I do play on USWest and USEast servers I wonder if any of these particular valleys or peaks correlate with any of my teammates timezone compared to mine. For example: I fire up a game at 9PM PST and I'm matched with a player in Brazil 3-4 hours ahead of me. Does his tiredness come across in the game?"
   ]
  },
  {
   "cell_type": "code",
   "execution_count": 58,
   "id": "fae7ceea",
   "metadata": {},
   "outputs": [],
   "source": [
    "months_years = data.groupby(['year', 'month'])\n",
    "months_wl = months_years['result'].mean()"
   ]
  },
  {
   "cell_type": "code",
   "execution_count": 59,
   "id": "41997097",
   "metadata": {},
   "outputs": [],
   "source": [
    "timeline_wl = []\n",
    "\n",
    "for year in range(2022, 2023):\n",
    "    for month in range(1, 13):\n",
    "        timeline_wl.append(months_wl.unstack()[month][year])\n",
    "        \n",
    "timeline_linspace = range(len(timeline_wl))"
   ]
  },
  {
   "cell_type": "code",
   "execution_count": 60,
   "id": "711ab93c",
   "metadata": {},
   "outputs": [
    {
     "data": {
      "text/plain": [
       "<matplotlib.legend.Legend at 0x7fdb193b90d0>"
      ]
     },
     "execution_count": 60,
     "metadata": {},
     "output_type": "execute_result"
    },
    {
     "data": {
      "image/png": "[encoded data removed]",
      "text/plain": [
       "<Figure size 1296x576 with 1 Axes>"
      ]
     },
     "metadata": {
      "needs_background": "light"
     },
     "output_type": "display_data"
    }
   ],
   "source": [
    "### Monthly W/L\n",
    "\n",
    "plt.figure(figsize=(18,8))\n",
    "plt.plot(timeline_linspace, timeline_wl, label='W/L Ratio')\n",
    "plt.plot(timeline_linspace, [0.5 for i in timeline_linspace], 'r--', label=\"0.5 W/L\")\n",
    "plt.title('Win Loss Ratio by Month')\n",
    "plt.legend()"
   ]
  },
  {
   "cell_type": "markdown",
   "id": "ffaaddf7",
   "metadata": {},
   "source": [
    "Wow! If only every month could be like June of '22 for my games."
   ]
  },
  {
   "cell_type": "code",
   "execution_count": 61,
   "id": "2d436d30",
   "metadata": {},
   "outputs": [
    {
     "data": {
      "text/html": [
       "<div>\n",
       "<style scoped>\n",
       "    .dataframe tbody tr th:only-of-type {\n",
       "        vertical-align: middle;\n",
       "    }\n",
       "\n",
       "    .dataframe tbody tr th {\n",
       "        vertical-align: top;\n",
       "    }\n",
       "\n",
       "    .dataframe thead th {\n",
       "        text-align: right;\n",
       "    }\n",
       "</style>\n",
       "<table border=\"1\" class=\"dataframe\">\n",
       "  <thead>\n",
       "    <tr style=\"text-align: right;\">\n",
       "      <th>month</th>\n",
       "      <th>1</th>\n",
       "      <th>2</th>\n",
       "      <th>3</th>\n",
       "      <th>4</th>\n",
       "      <th>5</th>\n",
       "      <th>6</th>\n",
       "      <th>7</th>\n",
       "      <th>8</th>\n",
       "      <th>9</th>\n",
       "      <th>10</th>\n",
       "      <th>11</th>\n",
       "      <th>12</th>\n",
       "    </tr>\n",
       "    <tr>\n",
       "      <th>year</th>\n",
       "      <th></th>\n",
       "      <th></th>\n",
       "      <th></th>\n",
       "      <th></th>\n",
       "      <th></th>\n",
       "      <th></th>\n",
       "      <th></th>\n",
       "      <th></th>\n",
       "      <th></th>\n",
       "      <th></th>\n",
       "      <th></th>\n",
       "      <th></th>\n",
       "    </tr>\n",
       "  </thead>\n",
       "  <tbody>\n",
       "    <tr>\n",
       "      <th>2021</th>\n",
       "      <td>NaN</td>\n",
       "      <td>NaN</td>\n",
       "      <td>NaN</td>\n",
       "      <td>NaN</td>\n",
       "      <td>NaN</td>\n",
       "      <td>NaN</td>\n",
       "      <td>NaN</td>\n",
       "      <td>NaN</td>\n",
       "      <td>NaN</td>\n",
       "      <td>NaN</td>\n",
       "      <td>NaN</td>\n",
       "      <td>0.500000</td>\n",
       "    </tr>\n",
       "    <tr>\n",
       "      <th>2022</th>\n",
       "      <td>0.000000</td>\n",
       "      <td>NaN</td>\n",
       "      <td>0.250000</td>\n",
       "      <td>0.551724</td>\n",
       "      <td>0.56</td>\n",
       "      <td>0.794872</td>\n",
       "      <td>0.487805</td>\n",
       "      <td>0.410256</td>\n",
       "      <td>0.531915</td>\n",
       "      <td>0.478261</td>\n",
       "      <td>0.466667</td>\n",
       "      <td>0.533333</td>\n",
       "    </tr>\n",
       "    <tr>\n",
       "      <th>2023</th>\n",
       "      <td>0.482759</td>\n",
       "      <td>0.594595</td>\n",
       "      <td>0.510638</td>\n",
       "      <td>0.515152</td>\n",
       "      <td>NaN</td>\n",
       "      <td>NaN</td>\n",
       "      <td>NaN</td>\n",
       "      <td>NaN</td>\n",
       "      <td>NaN</td>\n",
       "      <td>NaN</td>\n",
       "      <td>NaN</td>\n",
       "      <td>NaN</td>\n",
       "    </tr>\n",
       "  </tbody>\n",
       "</table>\n",
       "</div>"
      ],
      "text/plain": [
       "month        1         2         3         4     5         6         7   \\\n",
       "year                                                                      \n",
       "2021        NaN       NaN       NaN       NaN   NaN       NaN       NaN   \n",
       "2022   0.000000       NaN  0.250000  0.551724  0.56  0.794872  0.487805   \n",
       "2023   0.482759  0.594595  0.510638  0.515152   NaN       NaN       NaN   \n",
       "\n",
       "month        8         9         10        11        12  \n",
       "year                                                     \n",
       "2021        NaN       NaN       NaN       NaN  0.500000  \n",
       "2022   0.410256  0.531915  0.478261  0.466667  0.533333  \n",
       "2023        NaN       NaN       NaN       NaN       NaN  "
      ]
     },
     "execution_count": 61,
     "metadata": {},
     "output_type": "execute_result"
    }
   ],
   "source": [
    "months_wl.unstack()"
   ]
  },
  {
   "cell_type": "markdown",
   "id": "20ec9b5c",
   "metadata": {},
   "source": [
    "Let's explore this this hot month further."
   ]
  },
  {
   "cell_type": "code",
   "execution_count": 62,
   "id": "96dd3ce2",
   "metadata": {},
   "outputs": [
    {
     "name": "stderr",
     "output_type": "stream",
     "text": [
      "<ipython-input-62-d7590067d8df>:1: UserWarning: Boolean Series key will be reindexed to match DataFrame index.\n",
      "  hot_month = data[data.year == 2022][data.month == 6]\n"
     ]
    },
    {
     "data": {
      "text/plain": [
       "Beastmaster         8\n",
       "Chaos Knight        6\n",
       "Snapfire            5\n",
       "Slardar             4\n",
       "Kunkka              3\n",
       "Juggernaut          2\n",
       "Monkey King         2\n",
       "Dragon Knight       1\n",
       "Phantom Assassin    1\n",
       "Winter Wyvern       1\n",
       "Grimstroke          1\n",
       "Timbersaw           1\n",
       "Viper               1\n",
       "Drow Ranger         1\n",
       "Disruptor           1\n",
       "Lion                1\n",
       "Name: hero, dtype: int64"
      ]
     },
     "execution_count": 62,
     "metadata": {},
     "output_type": "execute_result"
    }
   ],
   "source": [
    "hot_month = data[data.year == 2022][data.month == 6]\n",
    "hot_month['hero'].value_counts()"
   ]
  },
  {
   "cell_type": "markdown",
   "id": "ef4c8a5e",
   "metadata": {},
   "source": [
    "And now exploration of the cold month."
   ]
  },
  {
   "cell_type": "code",
   "execution_count": 63,
   "id": "1e2f1393",
   "metadata": {},
   "outputs": [
    {
     "name": "stderr",
     "output_type": "stream",
     "text": [
      "<ipython-input-63-d68e73c77ac5>:1: UserWarning: Boolean Series key will be reindexed to match DataFrame index.\n",
      "  cold_month = data[data.year == 2022][data.month == 8]\n"
     ]
    },
    {
     "data": {
      "text/plain": [
       "Zeus                5\n",
       "Snapfire            5\n",
       "Puck                4\n",
       "Warlock             3\n",
       "Mars                2\n",
       "Slardar             2\n",
       "Dazzle              2\n",
       "Viper               2\n",
       "Legion Commander    2\n",
       "Phantom Lancer      1\n",
       "Razor               1\n",
       "Timbersaw           1\n",
       "Enchantress         1\n",
       "Dawnbreaker         1\n",
       "Beastmaster         1\n",
       "Tidehunter          1\n",
       "Omniknight          1\n",
       "Juggernaut          1\n",
       "Primal Beast        1\n",
       "Chaos Knight        1\n",
       "Death Prophet       1\n",
       "Name: hero, dtype: int64"
      ]
     },
     "execution_count": 63,
     "metadata": {},
     "output_type": "execute_result"
    }
   ],
   "source": [
    "cold_month = data[data.year == 2022][data.month == 8]\n",
    "cold_month['hero'].value_counts()"
   ]
  },
  {
   "cell_type": "markdown",
   "id": "ee4d4b72",
   "metadata": {},
   "source": [
    "Dang! It looks like I was trying a lot of new heros out during this time. Hopefully that can explain the poor W/L Ratio."
   ]
  },
  {
   "cell_type": "code",
   "execution_count": 64,
   "id": "2dcc98ee",
   "metadata": {},
   "outputs": [],
   "source": [
    "## First, a nifty function to annotate barplots\n",
    "def annotate(horizontal=False):\n",
    "    ax = plt.gca()    \n",
    "    for p in ax.patches:\n",
    "        ax.text(p.get_x() + p.get_width()/2., p.get_height() + 5, '%d' % int(p.get_height()), \n",
    "            fontsize=12, ha='center', va='bottom')"
   ]
  },
  {
   "cell_type": "code",
   "execution_count": 65,
   "id": "8672f9a4",
   "metadata": {},
   "outputs": [
    {
     "name": "stderr",
     "output_type": "stream",
     "text": [
      "/opt/anaconda3/lib/python3.8/site-packages/seaborn/_decorators.py:36: FutureWarning: Pass the following variables as keyword args: x, y. From version 0.12, the only valid positional argument will be `data`, and passing other arguments without an explicit keyword will result in an error or misinterpretation.\n",
      "  warnings.warn(\n"
     ]
    },
    {
     "data": {
      "image/png": "[encoded data removed]",
      "text/plain": [
       "<Figure size 1296x576 with 1 Axes>"
      ]
     },
     "metadata": {
      "needs_background": "light"
     },
     "output_type": "display_data"
    }
   ],
   "source": [
    "### Games played over the years\n",
    "\n",
    "games_over_the_years = data['year'].value_counts()\n",
    "plt.figure(figsize=(18,8))\n",
    "sns.barplot(games_over_the_years.index, games_over_the_years)\n",
    "plt.title('Games Played by Year')\n",
    "plt.ylabel('Games Played')\n",
    "plt.xlabel('Year')\n",
    "annotate()"
   ]
  },
  {
   "cell_type": "markdown",
   "id": "fe2021e8",
   "metadata": {},
   "source": [
    "Although I have played DotA for more years than these last 3. Opendota does not have the data for my games since I took such a long break. (Not that they'd be favorable)"
   ]
  },
  {
   "cell_type": "code",
   "execution_count": 66,
   "id": "894225d2",
   "metadata": {},
   "outputs": [
    {
     "data": {
      "text/plain": [
       "<matplotlib.legend.Legend at 0x7fdb196afac0>"
      ]
     },
     "execution_count": 66,
     "metadata": {},
     "output_type": "execute_result"
    },
    {
     "data": {
      "image/png": "[encoded data removed]",
      "text/plain": [
       "<Figure size 1296x576 with 1 Axes>"
      ]
     },
     "metadata": {
      "needs_background": "light"
     },
     "output_type": "display_data"
    }
   ],
   "source": [
    "years = data.groupby('year')\n",
    "years_wl = years['result'].mean()\n",
    "\n",
    "plt.figure(figsize=(18,8))\n",
    "plt.plot(years_wl.index, years_wl, label='Win Loss Ratio')\n",
    "plt.plot(years_wl.index, [0.5 for i in years_wl.index], 'r--', label='0.5 W/L Ratio')\n",
    "plt.legend()"
   ]
  },
  {
   "cell_type": "markdown",
   "id": "9d6b82cc",
   "metadata": {},
   "source": [
    "Well that is a nice plot to see. I wonder at which point will it plateau or dare I say drop off."
   ]
  },
  {
   "cell_type": "markdown",
   "id": "9ea2e561",
   "metadata": {},
   "source": [
    "<h1>Total Time in Game</h1>\n",
    "Before I finish this analysis, there is one more depressing statistic I must come to bear. Just how much of my last two years did I spend honing untransferrable skills and arguing with other keyboard warriors in Dota 2? Let's break down the numbers:"
   ]
  },
  {
   "cell_type": "code",
   "execution_count": 67,
   "id": "4da0a552",
   "metadata": {},
   "outputs": [
    {
     "data": {
      "text/plain": [
       "23969.0"
      ]
     },
     "execution_count": 67,
     "metadata": {},
     "output_type": "execute_result"
    }
   ],
   "source": [
    "total_minutes = data['duration'].sum()\n",
    "total_minutes"
   ]
  },
  {
   "cell_type": "code",
   "execution_count": 68,
   "id": "5add9410",
   "metadata": {},
   "outputs": [
    {
     "data": {
      "text/plain": [
       "399.48333333333335"
      ]
     },
     "execution_count": 68,
     "metadata": {},
     "output_type": "execute_result"
    }
   ],
   "source": [
    "total_hours = total_minutes / 60\n",
    "total_hours"
   ]
  },
  {
   "cell_type": "code",
   "execution_count": 69,
   "id": "bedbc910",
   "metadata": {},
   "outputs": [
    {
     "data": {
      "text/plain": [
       "16.64513888888889"
      ]
     },
     "execution_count": 69,
     "metadata": {},
     "output_type": "execute_result"
    }
   ],
   "source": [
    "total_days = total_hours / 24\n",
    "total_days"
   ]
  },
  {
   "cell_type": "code",
   "execution_count": null,
   "id": "feaf3597",
   "metadata": {},
   "outputs": [],
   "source": []
  }
 ],
 "metadata": {
  "kernelspec": {
   "display_name": "Python 3",
   "language": "python",
   "name": "python3"
  },
  "language_info": {
   "codemirror_mode": {
    "name": "ipython",
    "version": 3
   },
   "file_extension": ".py",
   "mimetype": "text/x-python",
   "name": "python",
   "nbconvert_exporter": "python",
   "pygments_lexer": "ipython3",
   "version": "3.8.8"
  }
 },
 "nbformat": 4,
 "nbformat_minor": 5
}
